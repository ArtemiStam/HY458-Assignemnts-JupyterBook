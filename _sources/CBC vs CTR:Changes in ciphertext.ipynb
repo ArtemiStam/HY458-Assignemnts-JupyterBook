{
 "cells": [
  {
   "cell_type": "markdown",
   "metadata": {},
   "source": [
    "# CBC vs CTR: Changes in ciphertext\n",
    "## Classic Crypto (FALL 2022-2023)"
   ]
  },
  {
   "cell_type": "markdown",
   "metadata": {},
   "source": [
    "Write a Python program that will encrypt the image file “secret.bmp”, using AES-256-CBC and AES-256-CTR. \n",
    "\n",
    "You can choose a random key and IV/nonce for the encryption processes.\n",
    "\n",
    "After encryption, introduce an error into the ciphertexts and decrypt the modified versions. Try, for example, changing some bytes right in the middle of the encrypted image data or anywhere after the first 54 bytes and setting them to 0.\n",
    "\n",
    "After corrupting the data, decrypt the corrupted ciphertexts and view the two restored images.\n",
    "\n",
    "How much of a difference did the edit make with CBC? How much of a difference did the edit make with CTR?\n",
    "Padding should not be considered for this exercise."
   ]
  },
  {
   "cell_type": "code",
   "execution_count": null,
   "metadata": {},
   "outputs": [],
   "source": [
    "\n",
    "import secrets\n",
    "from cryptography.hazmat.primitives.ciphers import Cipher, algorithms, modes"
   ]
  },
  {
   "cell_type": "code",
   "execution_count": null,
   "metadata": {},
   "outputs": [],
   "source": [
    "def encrypt_CBC(plain: bytes, key: bytes, iv: bytes):\n",
    "    cipher = Cipher(algorithms.AES256(key), modes.CBC(iv))\n",
    "    encryptor = cipher.encryptor()\n",
    "    return encryptor.update(plain) + encryptor.finalize()\n",
    "\n",
    "\n",
    "def encrypt_CTR(plain: bytes, key: bytes, nonce: bytes):\n",
    "    cipher = Cipher(algorithms.AES256(key), modes.CTR(nonce))\n",
    "    encryptor = cipher.encryptor()\n",
    "    return encryptor.update(plain) + encryptor.finalize()\n",
    "\n",
    "\n",
    "def corrupt(data: bytes):\n",
    "    data_len = len(data)\n",
    "    corrupted_data = list(data)\n",
    "    corrupted_data[data_len//2-8:data_len//2+8] = [0]*16\n",
    "\n",
    "    return bytes(corrupted_data)\n",
    "\n",
    "\n",
    "def decrypt_CBC(ciphertext: bytes, key: bytes, iv: bytes):\n",
    "    cipher = Cipher(algorithms.AES256(key), modes.CBC(iv))\n",
    "    decryptor = cipher.decryptor()\n",
    "    return decryptor.update(ciphertext) + decryptor.finalize()\n",
    "\n",
    "\n",
    "def decrypt_CTR(ciphertext: bytes, key: bytes, nonce: bytes):\n",
    "    cipher = Cipher(algorithms.AES256(key), modes.CTR(nonce))\n",
    "    decryptor = cipher.decryptor()\n",
    "    return decryptor.update(ciphertext) + decryptor.finalize()\n"
   ]
  },
  {
   "cell_type": "markdown",
   "metadata": {},
   "source": [
    "![Processed Image](secret.bmp)"
   ]
  },
  {
   "cell_type": "code",
   "execution_count": null,
   "metadata": {},
   "outputs": [],
   "source": [
    "def main():\n",
    "    with open(\"secret.bmp\", \"rb\") as secret:\n",
    "        image = secret.read()\n",
    "\n",
    "    header = image[:54]\n",
    "    data = image[54:]\n",
    "\n",
    "    key = secrets.token_bytes(32)\n",
    "    iv = secrets.token_bytes(16)\n",
    "    nonce = secrets.token_bytes(16)\n",
    "\n",
    "    enc_CBC = encrypt_CBC(data, key, iv)\n",
    "    enc_CTR = encrypt_CTR(data, key, nonce)\n",
    "\n",
    "    corrupted_CBC = corrupt(enc_CBC)\n",
    "    corrupted_CTR = corrupt(enc_CTR)\n",
    "\n",
    "    dec_CBC = decrypt_CBC(corrupted_CBC, key, iv)\n",
    "    dec_CTR = decrypt_CTR(corrupted_CTR, key, nonce)\n",
    "\n",
    "    with open(\"secret-CBC.bmp\", \"wb\") as secret:\n",
    "        secret.write(header+dec_CBC)\n",
    "\n",
    "    with open(\"secret-CTR.bmp\", \"wb\") as secret:\n",
    "        secret.write(header+dec_CTR)\n",
    "\n",
    "\n",
    "if __name__ == \"__main__\":\n",
    "    main()"
   ]
  },
  {
   "cell_type": "markdown",
   "metadata": {},
   "source": [
    "![Processed Image](secret-CBC.bmp)"
   ]
  },
  {
   "cell_type": "markdown",
   "metadata": {},
   "source": [
    "![Processed Image](secret-CTR.bmp)"
   ]
  }
 ],
 "metadata": {
  "kernelspec": {
   "display_name": "Python 3",
   "language": "python",
   "name": "python3"
  },
  "language_info": {
   "codemirror_mode": {
    "name": "ipython",
    "version": 3
   },
   "file_extension": ".py",
   "mimetype": "text/x-python",
   "name": "python",
   "nbconvert_exporter": "python",
   "pygments_lexer": "ipython3",
   "version": "3.12.3"
  }
 },
 "nbformat": 4,
 "nbformat_minor": 2
}
