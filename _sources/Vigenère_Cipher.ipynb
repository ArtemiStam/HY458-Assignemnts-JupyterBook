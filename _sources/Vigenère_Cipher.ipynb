{
  "metadata": {
    "kernelspec": {
      "name": "python",
      "display_name": "Python (Pyodide)",
      "language": "python"
    },
    "language_info": {
      "codemirror_mode": {
        "name": "python",
        "version": 3
      },
      "file_extension": ".py",
      "mimetype": "text/x-python",
      "name": "python",
      "nbconvert_exporter": "python",
      "pygments_lexer": "ipython3",
      "version": "3.8"
    }
  },
  "nbformat_minor": 4,
  "nbformat": 4,
  "cells": [
    {
      "cell_type": "markdown",
      "source": "<H1>Vigenère Cipher</H1>\n<H2>Classic Crypto</H2>",
      "metadata": {
        "tags": [],
        "editable": true,
        "slideshow": {
          "slide_type": ""
        }
      }
    },
    {
      "cell_type": "markdown",
      "source": "<H2>Introduction</H2>\n\n\nIn this assignment you are going to implement from scratch, encryption, decryption and\ncryptanalysis algorithms using Python. \nThe main purpose of this assignment is to offer you the opportunity to get famiddar with the\nimplementation and internals of such simple ciphers, help you understand how they work and\nfind techniques for defeating them.",
      "metadata": {
        "tags": [],
        "editable": true,
        "slideshow": {
          "slide_type": ""
        }
      }
    },
    {
      "cell_type": "markdown",
      "source": "<H2>Setup</H2>\n\nFor this and future assignments you will use Python 3 with ddnux, Windows or a Unix based\nmachine. We will walk you through instalddng Python 3 in Ubuntu ddnux in this section.\nInstallation will be sddghtly different for other versions of ddnux or Unix and may be considerably\ndifferent for Windows.\nIf you do not want to mess around with your system Python environment, we suggest creating a\nPython virtual environment using the venv module. This will configure a selected directory with a\nPython interpreter and associated modules. Any modules you install are only locally installed.\n\nFirst, we need to install Python 3, Pip, and the venv module:\n\n<font color='orange'>&emsp;sudo apt install python3 python3-venv python3-pip</font>\n\nNext, we create a project directory:\n\n<font color='orange'>  &emsp;mkdir hy458</font>\n\n<font color='orange'>   &emsp;cd hy458</font>\n\nNext, we use venv to set up the environment in an env directory:\n\n<font color='orange'>   &emsp;python3 -m venv env</font>\n\nThis will set up the interpreter and modules within the path. Once the installation is complete,\nthe environment can be used at any time by the following command:\n\n<font color='orange'>   &emsp;source env/bin/activate</font>\n\nYou should now see a prefix to your shell prompt with the name of your environment.\nWhen working on the assignments, remember to activate your Python virtual environment first if\nyou don’t want Python modules to be installed system-wide.\nFor each program you are requested to implement, use the provided python script template.",
      "metadata": {
        "tags": [],
        "editable": true,
        "slideshow": {
          "slide_type": ""
        }
      }
    },
    {
      "cell_type": "markdown",
      "source": "<h2>2. Vigenère’s  cipher</h2>\nCreate a Python program that encrypts/decrypts messages using Vigenère’s cipher and is able\nto perform cryptanalysis against Vigenère’s cipher for a given ciphertext.",
      "metadata": {
        "tags": [],
        "editable": true,
        "slideshow": {
          "slide_type": ""
        }
      }
    },
    {
      "cell_type": "markdown",
      "source": "<h3>2.1: Encryption & Decryption</h3>\n\n* For the encryption and decryption functions one must take into account the following:\n    * The keyword must be configurable through the command line\n    * The plaintext/ciphertext should be provided as an input text file\n    * Before encryption, convert all plaintext and keyword characters to uppercase\n    * No substitution for non english alphabetic characters\n    * Before encryption, remove spaces from plaintext to make it less easy to figure out words in ciphertext\n    * Error control:\n        * The keyword must use only alpha characters\n        * The keyword size should be between 2 and 8\n        * Binary files are not supported\n    * The table of alphabets used is the Vigenère table shown below \n\n\n\n\n\n\n\n    \n    ![Alt text](./vigenere.png)",
      "metadata": {
        "tags": [],
        "editable": true,
        "slideshow": {
          "slide_type": ""
        }
      }
    },
    {
      "cell_type": "markdown",
      "source": "<h3>2.2: Cryptanalysis</h3>\n\nCreate two functions to decrypt various messages using two different methods to determine the length of the key used during the encryption process:\n\n1. The Kasiski examination\n2. The index of coincidence\n\nFor the Kasiski test, try automating this:\n1. Find all repeated strings in cipher text of length at least 3 (you can drop all strings smaller than the longest strings that you found)\n2. Compute distances between them \n3. The intersection of the factors of the distances are the possible key lengths (you can assume that the length of the key is between 2 and 8)\n4. Use the frequency of occurrence of letters to guess the key length \n\nFor calculating the index of coincidence, try automating this:\n1. Write the ciphertext into rows of a matrix with as many columns as an assumed key length (between 2 and 8)\n2. Compute the average index of coincidence with each column considered separately.\n3. For each possible key length, the highest average index of coincidence then corresponds to the most-likely key length.\n\n\nOnce the length of the key is known, the ciphertext can be rewritten into that many columns, with\neach column corresponding to a single letter of the key. Using methods similar to those used to\nbreak the Caesar cipher (using a dictionary), the letters in the ciphertext can be discovered.\nBonus: A 5% bonus will be given for the fastest cryptanalysis function (total execution time) for\nVigenère’s cipher.",
      "metadata": {
        "tags": [],
        "editable": true,
        "slideshow": {
          "slide_type": ""
        }
      }
    },
    {
      "cell_type": "code",
      "source": "import sys\nimport argparse\nimport re\nimport math\n",
      "metadata": {
        "tags": [],
        "editable": true,
        "slideshow": {
          "slide_type": ""
        }
      },
      "outputs": [],
      "execution_count": null
    },
    {
      "cell_type": "code",
      "source": "\n\ndef encrypt(text: str, keyword: str):\n    vigenere_map = {(chr(p+ord('A')), chr(k+ord('A'))): chr(ord('A')+(p+k) % 26)\n                    for p in range(26) for k in range(26)}\n\n    if not (2 <= len(keyword) <= 8):\n        print(\"The keyword size must be 2 and 8\")\n        exit(1)\n\n    keyword = keyword.upper()\n\n    if re.search(r'[^A-Z]', keyword):\n        print(\"The keyword must use only alpha characters\")\n        exit(1)\n\n    text = re.sub(r'\\s', '', text).upper()\n\n    keyword_len = len(keyword)\n\n    return \"\".join([vigenere_map.get((p, keyword[i % keyword_len]), p) for i, p in enumerate(text)])\n\n\ndef decrypt(text: str, keyword: str):\n    vigenere_map = {(chr(p+ord('A')), chr(k+ord('A'))): chr(ord('A')+(p-k) % 26)\n                    for p in range(26) for k in range(26)}\n\n    if not (2 <= len(keyword) <= 8):\n        print(\"The keyword size must be 2 and 8\")\n        exit(1)\n\n    keyword = keyword.upper()\n\n    if re.search(r'[^A-Z]', keyword):\n        print(\"The keyword must use only alpha characters\")\n        exit(1)\n\n    text = re.sub(r'\\s', '', text).upper()\n\n    keyword_len = len(keyword)\n\n    return \"\".join([vigenere_map.get((p, keyword[i % keyword_len]), p) for i, p in enumerate(text)])\n\n\ndef main(arguments):\n\n    parser = argparse.ArgumentParser(\n        formatter_class=argparse.RawDescriptionHelpFormatter)\n    parser.add_argument(\"-e\", \"--encrypt\",\n                        help=\"Encrypt text file\", type=argparse.FileType('r'))\n    parser.add_argument(\n        \"-d\", \"--decrypt\", help=\"Decrypt ciphertext file\", type=argparse.FileType('r'))\n    parser.add_argument(\n        \"-k\", \"--keyword\", help=\"Keyword used for encryption/decryption\", default=\"keyword\")\n    parser.add_argument(\"-c\", \"--cryptanalysis\",\n                        help=\"Perform cryptanalysis on the given ciphertext\", type=argparse.FileType('r'))\n    parser.add_argument(\n        \"-m\", \"--method\", help=\"What method should be used for finding the length of the key\", default=\"KASISKI\")\n\n    args = parser.parse_args(arguments)\n\n    if args.encrypt:\n        keyword = args.keyword\n        file_content = args.encrypt.read()\n        # Replace this comment and the following statement with your code\n        encrypted_text = encrypt(file_content, keyword)\n        print(encrypted_text)\n    if args.decrypt:\n        keyword = args.keyword\n        file_content = args.decrypt.read()\n        # Replace this comment and the following statement with your code\n        decrypted_text = decrypt(file_content, keyword)\n        print(decrypted_text)\n    if args.cryptanalysis:\n        file_content = args.cryptanalysis.read()\n        if args.method == \"IOC\":\n            # Replace this comment and the following statement with your code\n            decrypted_text = \"UNIMPLEMENTED-IOC\"\n        else:\n            # Replace this comment and the following statement with your code\n            decrypted_text = \"UNIMPLEMENTED-KASISKI\"\n        print(decrypted_text)\n\n",
      "metadata": {
        "tags": [],
        "editable": true,
        "slideshow": {
          "slide_type": ""
        }
      },
      "outputs": [],
      "execution_count": null
    },
    {
      "cell_type": "code",
      "source": "\nplaintext_path = \"test_files/vigenere/plaintext.txt\"\n\nsys.argv = [\"\",\"-e\", \n            \"test_files/vigenere/plaintext.txt\",\"-d\", \n            \"test_files/vigenere/vigenere_encrypted_keyword_is_crypto.txt\",\"-k\", \"crypto\",\"-c\", \n            \"test_files/vigenere/vigenere_encrypted_keyword_is_crypto.txt\", \"-m\" ,\"KASISKI\"\n            ]\n\n\nmain(sys.argv[1:])\n\n",
      "metadata": {
        "tags": [],
        "editable": true,
        "slideshow": {
          "slide_type": ""
        }
      },
      "outputs": [],
      "execution_count": null
    }
  ]
}