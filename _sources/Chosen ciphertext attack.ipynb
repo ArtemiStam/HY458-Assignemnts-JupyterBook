{
 "cells": [
  {
   "cell_type": "markdown",
   "metadata": {},
   "source": [
    "# Chosen ciphertext attack"
   ]
  },
  {
   "cell_type": "markdown",
   "metadata": {},
   "source": [
    "In this exercise you will write code to demonstrate RSA’s homomorphic property and implement the chosen ciphertext attack.\n",
    "\n",
    "Use a public key to encrypt a sample message (Em). Then, encrypt a value of r (with r between 2 and 1000). \n",
    "\n",
    "Multiply the two numeric versions of the ciphertext together mod n. Multiply the decrypted result (call it D) by the inverse of r (mod n). You should be able to see the original message.\n",
    "\n",
    "More generally, your program should iterate over all values of r between 2 and 1000 to find the decryption of Em, using the formula: (D / r) % n"
   ]
  },
  {
   "cell_type": "code",
   "execution_count": null,
   "metadata": {},
   "outputs": [],
   "source": [
    "import argparse\n",
    "import sys\n",
    "import gmpy2\n",
    "from cryptography.hazmat.primitives.serialization import load_pem_private_key, load_pem_public_key\n",
    "\n"
   ]
  },
  {
   "cell_type": "code",
   "execution_count": null,
   "metadata": {},
   "outputs": [],
   "source": [
    "def bytes_to_int(text: bytes):\n",
    "    return int.from_bytes(text, 'big')\n",
    "\n",
    "\n",
    "def int_to_bytes(num):\n",
    "    num_int = int(num)\n",
    "    return int.to_bytes(num_int, (num_int.bit_length()+7)//8, \"big\")\n",
    "\n",
    "\n",
    "def encrypt(plain: bytes, e: int, n: int, block_size: int | None = None):\n",
    "    if block_size is None:\n",
    "        block_size = (n.bit_length()+7)//8\n",
    "\n",
    "    blocks = [bytes_to_int(plain[i:i+block_size])\n",
    "              for i in range(0, len(plain), block_size)]\n",
    "\n",
    "    return b\"\".join([int_to_bytes(gmpy2.powmod(block, e, n)) for block in blocks])\n",
    "\n",
    "\n",
    "def decrypt(cipher: bytes, d: int, n: int, block_size: int | None = None):\n",
    "    if block_size is None:\n",
    "        block_size = (n.bit_length()+7)//8\n",
    "\n",
    "    blocks = [bytes_to_int(cipher[i:i+block_size])\n",
    "              for i in range(0, len(cipher), block_size)]\n",
    "\n",
    "    return b\"\".join([int_to_bytes(gmpy2.powmod(block, d, n)) for block in blocks])"
   ]
  },
  {
   "cell_type": "code",
   "execution_count": null,
   "metadata": {},
   "outputs": [],
   "source": [
    "def main(arguments):\n",
    "    parser = argparse.ArgumentParser(\n",
    "        formatter_class=argparse.RawDescriptionHelpFormatter)\n",
    "    parser.add_argument(\n",
    "        \"-p\", \"--plaintext\", help=\"File to be encrypted\", type=str)\n",
    "    parser.add_argument(\n",
    "        \"-pub\", \"--public-key\", help=\"File containing the public key\", type=argparse.FileType('r'), required=True)\n",
    "    parser.add_argument(\n",
    "        \"-prv\", \"--private-key\", help=\"File containing the private key\", type=argparse.FileType('r'), required=True)\n",
    "\n",
    "    args = parser.parse_args(arguments)\n",
    "\n",
    "    if args.plaintext:\n",
    "        original_plain: bytes = args.plaintext.encode()\n",
    "    else:\n",
    "        original_plain = b'sample_message'\n",
    "\n",
    "    public_key = load_pem_public_key(args.public_key.read().encode())\n",
    "    priv_key = load_pem_private_key(args.private_key.read().encode(), None)\n",
    "\n",
    "    numbers = public_key.public_numbers()\n",
    "    encrypted = bytes_to_int(encrypt(original_plain, numbers.e, numbers.n))\n",
    "\n",
    "    retrieved = []\n",
    "\n",
    "    for r in range(2, 1001):\n",
    "        assert (gmpy2.gcd(numbers.n, r) == 1)\n",
    "        encrypted_r = bytes_to_int(\n",
    "            encrypt(int_to_bytes(r), numbers.e, numbers.n))\n",
    "\n",
    "        combined = (encrypted_r*encrypted) % numbers.n\n",
    "\n",
    "        decrypted_combined = bytes_to_int(decrypt(\n",
    "            int_to_bytes(combined), priv_key.private_numbers().d, numbers.n))\n",
    "\n",
    "        inverse_r = pow(r, -1, numbers.n)\n",
    "        retrieved.append(int_to_bytes(\n",
    "            decrypted_combined*inverse_r % numbers.n))\n",
    "\n",
    "    if all(plain == original_plain for plain in retrieved):\n",
    "        print(\"All matched\")\n",
    "    else:\n",
    "        print(\"Something failed\")\n",
    "\n",
    "\n"
   ]
  },
  {
   "cell_type": "code",
   "execution_count": null,
   "metadata": {},
   "outputs": [],
   "source": [
    "\n",
    "\n",
    "sys.argv = [\n",
    "    \"\", \n",
    "    \"-p\", \"prime\",\n",
    "    \"-pub\", \"InputFiles/RSA_powmod_without_padding/public_key.pem\",\n",
    "    \"-prv\" , \"InputFiles/RSA_powmod_without_padding/private_key.pem\"\n",
    "]\n",
    "\n",
    "main(sys.argv[1:])"
   ]
  },
  {
   "cell_type": "code",
   "execution_count": null,
   "metadata": {},
   "outputs": [],
   "source": [
    "with open(\"InputFiles/RSA_powmod_without_padding/public_key.pem\", \"r\") as pu_key_file:\n",
    "    print(pu_key_file.read())"
   ]
  },
  {
   "cell_type": "code",
   "execution_count": null,
   "metadata": {},
   "outputs": [],
   "source": [
    "with open(\"InputFiles/RSA_powmod_without_padding/private_key.pem\", \"r\") as priv_key_file:\n",
    "    print(priv_key_file.read())"
   ]
  }
 ],
 "metadata": {
  "kernelspec": {
   "display_name": "Python 3",
   "language": "python",
   "name": "python3"
  },
  "language_info": {
   "name": "python",
   "version": "3.12.3"
  }
 },
 "nbformat": 4,
 "nbformat_minor": 2
}
