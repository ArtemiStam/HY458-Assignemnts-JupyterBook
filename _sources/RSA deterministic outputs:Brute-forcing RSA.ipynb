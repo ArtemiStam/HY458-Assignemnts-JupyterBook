{
 "cells": [
  {
   "cell_type": "markdown",
   "metadata": {},
   "source": [
    "# RSA deterministic outputs: Brute-forcing RSA"
   ]
  },
  {
   "cell_type": "markdown",
   "metadata": {},
   "source": [
    "Create a Python program that uses the RSA implementation you created in exercise 1 to brute force an RSA-encrypted word. The program should take a public key, the RSA encrypted ciphertext and the length of the word as the inputs.\n",
    "\n",
    "By running some experiments, measure the average time it takes to brute force an all lowercase four-letter word vs. an all lowercase five-letter word. How many times longer does it take and why? \n",
    "\n",
    "For how long would it take to try all possible all lowercase six-letter words? \n",
    "\n",
    "Modify your brute-force program by adding an option to pass a dictionary as input for trying arbitrary English words."
   ]
  },
  {
   "cell_type": "code",
   "execution_count": null,
   "metadata": {},
   "outputs": [],
   "source": [
    "import argparse\n",
    "import string\n",
    "import sys\n",
    "from typing import Iterable\n",
    "from itertools import product\n",
    "import gmpy2\n",
    "from cryptography.hazmat.primitives.asymmetric.rsa import RSAPublicKey\n",
    "from cryptography.hazmat.primitives.serialization import load_pem_public_key\n",
    "\n"
   ]
  },
  {
   "cell_type": "code",
   "execution_count": null,
   "metadata": {},
   "outputs": [],
   "source": [
    "def bytes_to_int(text: bytes):\n",
    "    return int.from_bytes(text, 'big')\n",
    "\n",
    "def int_to_bytes(num):\n",
    "    num_int = int(num)\n",
    "    return int.to_bytes(num_int, (num_int.bit_length()+7)//8, \"big\")\n",
    "\n",
    "\n",
    "def encrypt(plain: bytes, e: int, n: int, block_size: int | None = None):\n",
    "    if block_size is None:\n",
    "        block_size = (n.bit_length()+7)//8\n",
    "\n",
    "    blocks = [bytes_to_int(plain[i:i+block_size])\n",
    "              for i in range(0, len(plain), block_size)]\n",
    "\n",
    "    return b\"\".join([int_to_bytes(gmpy2.powmod(block, e, n)) for block in blocks])\n",
    "\n",
    "def bruteforce(key: RSAPublicKey, cipher: bytes, search_space: Iterable):\n",
    "    public_numbers = key.public_numbers()\n",
    "    for word_tuple in search_space:\n",
    "        word = \"\".join(word_tuple)\n",
    "        attempt = encrypt(word.encode(),\n",
    "                          public_numbers.e, public_numbers.n)\n",
    "\n",
    "        if attempt == cipher:\n",
    "            return word\n",
    "\n",
    "    return None\n",
    "\n"
   ]
  },
  {
   "cell_type": "code",
   "execution_count": null,
   "metadata": {},
   "outputs": [],
   "source": [
    "def main(arguments):\n",
    "    parser = argparse.ArgumentParser(\n",
    "        formatter_class=argparse.RawDescriptionHelpFormatter)\n",
    "    parser.add_argument(\n",
    "        \"-c\", \"--ciphertext\", help=\"Encrypted word\", type=str, required=True)\n",
    "    parser.add_argument(\n",
    "        \"-l\", \"--length\", help=\"Length of the word\", type=int)\n",
    "    parser.add_argument(\n",
    "        \"-pub\", \"--public-key\", help=\"File containing the public key\", type=argparse.FileType('r'), required=True)\n",
    "    parser.add_argument(\n",
    "        \"-d\", \"--dictionary\", help=\"File containing the dictionary for the attack\", type=argparse.FileType('r'))\n",
    "\n",
    "    args = parser.parse_args(arguments)\n",
    "\n",
    "    public_key = load_pem_public_key(args.public_key.read().encode())\n",
    "\n",
    "    if args.dictionary:\n",
    "        search_space = args.dictionary.read().splitlines()\n",
    "        if args.length:\n",
    "            search_space = [\n",
    "                word for word in search_space if len(word) == args.length]\n",
    "    else:\n",
    "        if args.length is not None:\n",
    "            search_space = product(string.ascii_lowercase, repeat=args.length)\n",
    "        else:\n",
    "            parser.error(\n",
    "                \"-l/--length is required  when -d/--dictionary is not provided\")\n",
    "\n",
    "    plain = bruteforce(public_key, bytes.fromhex(\n",
    "        args.ciphertext), search_space)\n",
    "    if plain:\n",
    "        print(plain)\n",
    "    else:\n",
    "        print(\"Word not found\")\n",
    "\n"
   ]
  },
  {
   "cell_type": "code",
   "execution_count": null,
   "metadata": {},
   "outputs": [],
   "source": [
    "\n",
    "sys.argv = [\n",
    "    \"\", \n",
    "    \"-c\", \"afb7c2810bc4687588ff93559b4b89d17c6c1b33e421c06d11c8675da4412adaf845de8d94366630f9804df799c1ff5bdc9619261b7448e1638461cfa4d459e21cbb898c1ffbfe599622b9bc5a97496759f6e8e20ed3380600239ecdb1537c48ad735630e816512faecc5e0f126e8ea583b06fa2dd989569c10783674fe0bb486731477247cef855696df351cea93d60718f610bb0473c39c2c9baf06751b6bcf8675ad151d37807aedddd1fae65990729a47da505b284a0f329d1dd4ae8db9b4d9a5c6204ae1c6b1a2c3987645242ba1c4b52a9cf27e8c18e7f00275c9f0577af959869464ebfaa4d0b029059cb94eca3f8d559598a83d5207f5483cae8bfb4\",\n",
    "    \"-pub\", \"InputFiles/RSA_powmod_without_padding/public_key.pem\",\n",
    "    \"-d\" , \"dictionary_1000.txt\"\n",
    "    \n",
    "\n",
    "]\n",
    "main(sys.argv[1:])\n",
    "\n",
    "    #\"-d\" , \"dictionary_1000.txt\"\n",
    "    #\"-l\" , 5"
   ]
  },
  {
   "cell_type": "code",
   "execution_count": null,
   "metadata": {},
   "outputs": [],
   "source": [
    "with open(\"InputFiles/RSA_powmod_without_padding/public_key.pem\", \"r\") as pu_key_file:\n",
    "    print(pu_key_file.read())"
   ]
  }
 ],
 "metadata": {
  "kernelspec": {
   "display_name": "Python 3",
   "language": "python",
   "name": "python3"
  },
  "language_info": {
   "codemirror_mode": {
    "name": "ipython",
    "version": 3
   },
   "file_extension": ".py",
   "mimetype": "text/x-python",
   "name": "python",
   "nbconvert_exporter": "python",
   "pygments_lexer": "ipython3",
   "version": "3.12.3"
  }
 },
 "nbformat": 4,
 "nbformat_minor": 2
}
