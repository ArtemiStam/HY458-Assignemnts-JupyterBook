{
 "cells": [
  {
   "cell_type": "markdown",
   "metadata": {},
   "source": [
    "# ECB:Integrity issues"
   ]
  },
  {
   "cell_type": "markdown",
   "metadata": {},
   "source": [
    "Create a Python program that encrypts the messages in “message1.txt” and “message2.txt” using AES-128-ECB, using a key of your choosing.\n",
    "\n",
    "The aforementioned text files portray messages exchanged between two parties for the setup of a meeting.\n",
    "\n",
    "By concatenating a part of the ciphertext created from the first message and a part of the ciphertext created from the second message, create a third ciphertext which when decrypted shows that a meeting will take place at a date and time combination not shown in the first two messages. \n",
    "Print the resulting plaintext as well as the ciphertexts for message1.txt, message2.txt and the created message in the console, as a hexadecimal byte representation of the data.\n",
    "\n",
    "Padding should not be considered for this exercise"
   ]
  },
  {
   "cell_type": "code",
   "execution_count": 1,
   "metadata": {},
   "outputs": [],
   "source": [
    "from cryptography.hazmat.primitives.ciphers import Cipher, algorithms, modes\n",
    "from cryptography.hazmat.primitives.padding import PKCS7\n",
    "import secrets\n"
   ]
  },
  {
   "cell_type": "code",
   "execution_count": 2,
   "metadata": {},
   "outputs": [],
   "source": [
    "def encrypt(plain: bytes, key: bytes):\n",
    "    # Apply PKCS7 padding\n",
    "    padder = PKCS7(128).padder()\n",
    "    padded_data = padder.update(plain) + padder.finalize()\n",
    "    \n",
    "    cipher = Cipher(algorithms.AES(key), modes.ECB())\n",
    "    encryptor = cipher.encryptor()\n",
    "    return encryptor.update(padded_data) + encryptor.finalize()\n",
    "\n",
    "def decrypt(ciphertext: bytes, key: bytes):\n",
    "    cipher = Cipher(algorithms.AES(key), modes.ECB())\n",
    "    decryptor = cipher.decryptor()\n",
    "    padded_plaintext = decryptor.update(ciphertext) + decryptor.finalize()\n",
    "    \n",
    "    # Remove PKCS7 padding\n",
    "    unpadder = PKCS7(128).unpadder()\n",
    "    return unpadder.update(padded_plaintext) + unpadder.finalize()\n",
    "\n",
    "def mix_ciphers(ct1: bytes, ct2: bytes):\n",
    "    return ct1[:16*6] + ct2[16*6:]"
   ]
  },
  {
   "cell_type": "code",
   "execution_count": 3,
   "metadata": {},
   "outputs": [
    {
     "name": "stdout",
     "output_type": "stream",
     "text": [
      "Key: 084c328125d477fd6d82bac64b83e032\n",
      "Ciphertext 1: e65816381d8798963af967f87d5e2c2663b73c57d9bf49b60911607dc825bf7364c9600d905187fab91743b597e2f0bc\n",
      "Ciphertext 2: e65816381d8798963af967f87d5e2c2650727f74db862ca90cce406efeae7ededf88fae8cb67b857bf560f74eb7eadf6\n",
      "Created ciphertext: e65816381d8798963af967f87d5e2c2663b73c57d9bf49b60911607dc825bf7364c9600d905187fab91743b597e2f0bc\n",
      "Created message:\n",
      "Meet me today at the church at 1130."
     ]
    }
   ],
   "source": [
    "def main(m1,m2):\n",
    "    m1_plain = m1.encode()\n",
    "\n",
    "    m2_plain = m2.encode()\n",
    "\n",
    "    key = secrets.token_bytes(16)\n",
    "\n",
    "    m1_cipher = encrypt(m1_plain, key)\n",
    "    m2_cipher = encrypt(m2_plain, key)\n",
    "\n",
    "    mixed = mix_ciphers(m1_cipher, m2_cipher)\n",
    "\n",
    "    print(f\"Key: {key.hex()}\")\n",
    "\n",
    "    print(f\"Ciphertext 1: {m1_cipher.hex()}\")\n",
    "    print(f\"Ciphertext 2: {m2_cipher.hex()}\")\n",
    "    print(f\"Created ciphertext: {mixed.hex()}\")\n",
    "    print(f\"Created message:\\n{decrypt(mixed, key).decode()}\", end='')\n",
    "\n",
    "if __name__ == \"__main__\":\n",
    "    message1 = \"Meet me today at the church at 1130.\"\n",
    "    message2 = \"Meet me today at the market at 1530.\"\n",
    "    main(message1,message2)\n",
    "\n"
   ]
  }
 ],
 "metadata": {
  "kernelspec": {
   "display_name": "Python 3",
   "language": "python",
   "name": "python3"
  },
  "language_info": {
   "codemirror_mode": {
    "name": "ipython",
    "version": 3
   },
   "file_extension": ".py",
   "mimetype": "text/x-python",
   "name": "python",
   "nbconvert_exporter": "python",
   "pygments_lexer": "ipython3",
   "version": "3.12.3"
  }
 },
 "nbformat": 4,
 "nbformat_minor": 2
}
