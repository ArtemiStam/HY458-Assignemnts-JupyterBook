{
 "cells": [
  {
   "cell_type": "markdown",
   "metadata": {},
   "source": [
    "# Hashing in Proof-of-Work schemes"
   ]
  },
  {
   "cell_type": "markdown",
   "metadata": {},
   "source": [
    "Write a Python program that feeds a counter into SHA-256, taking the output hash and converting it to an integer.\n",
    "\n",
    "Have the program repeat until it finds a hash that is less than a target number. The target number should be 2N, where N starts at 255.\n",
    "\n",
    "Every time that we find a hash less than the target number, you should decrease N by 1, reset the counter to 0 and print the time it took to find that hash.\n",
    "\n",
    "Explain how the above procedures relate to Bitcoin’s mining difficulty"
   ]
  },
  {
   "cell_type": "code",
   "execution_count": null,
   "metadata": {},
   "outputs": [],
   "source": [
    "from cryptography.hazmat.primitives import hashes\n",
    "import timeit\n",
    "\n",
    "N = 255\n",
    "\n",
    "def bytes_to_int(text: bytes):\n",
    "    return int.from_bytes(text, 'big')\n",
    "\n",
    "\n",
    "def int_to_bytes(num):\n",
    "    num_int = int(num)\n",
    "    return int.to_bytes(num_int, (num_int.bit_length()+7)//8, \"big\")\n",
    "\n",
    "def hash_lookup():\n",
    "    global N\n",
    "\n",
    "    counter = b'\\x00'\n",
    "\n",
    "    hasher = hashes.Hash(hashes.SHA256())\n",
    "    hasher.update(counter)\n",
    "    counter = hasher.finalize()\n",
    "\n",
    "    target = 2**N\n",
    "\n",
    "    while bytes_to_int(counter) >= target:\n",
    "        hasher = hashes.Hash(hashes.SHA256())\n",
    "        hasher.update(counter)\n",
    "        counter = hasher.finalize()\n",
    "    N -= 1\n",
    "    counter = b'\\x00'\n",
    "\n",
    "\n",
    "while True:\n",
    "    print(N, timeit.timeit(lambda: hash_lookup(), number=1))"
   ]
  },
  {
   "cell_type": "code",
   "execution_count": null,
   "metadata": {},
   "outputs": [],
   "source": [
    "The lower N is, the longer it takes to find a hash less than the target. Bitcoin is mined through a procedure similar to the one implemented. It is really simple to check if the hash found is suitable but very hard to find it in the first place. This makes mining very hard. When paying, this can be used to prove that the miner has put in the work need to mine Bitcoins."
   ]
  }
 ],
 "metadata": {
  "kernelspec": {
   "display_name": "Python 3",
   "language": "python",
   "name": "python3"
  },
  "language_info": {
   "name": "python",
   "version": "3.12.3"
  }
 },
 "nbformat": 4,
 "nbformat_minor": 2
}
