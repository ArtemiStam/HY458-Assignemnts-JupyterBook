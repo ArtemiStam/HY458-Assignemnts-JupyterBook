{
 "cells": [
  {
   "cell_type": "markdown",
   "metadata": {},
   "source": [
    "# CBC: Padding"
   ]
  },
  {
   "cell_type": "markdown",
   "metadata": {},
   "source": [
    "Create a Python program that will be able to encrypt and decrypt the contents of any given file using AES-CBC with key sizes of 128, 192 or 256 bits.\n",
    "\n",
    "The key and IV to be used should be given as inputs through separate files. In case of an invalid format or invalid length for the key or IV, an appropriate message should be printed to the user.\n",
    "\n",
    "For this exercise you should use PKCS7 padding: Cryptography - Symmetric Padding\n",
    "\n",
    "Your program should support the following arguments:\n",
    "\n",
    " -e plaintext file: Encrypt file contents\n",
    " -d ciphertext file: Decrypt file contents\n",
    " -k key file: File containing the key\n",
    " -iv IV file: File containing the IV\n",
    " -o output file: Output file, if both encryption and decryption are specified, this file should contain both outputs"
   ]
  },
  {
   "cell_type": "code",
   "execution_count": null,
   "metadata": {},
   "outputs": [],
   "source": [
    "import argparse\n",
    "import sys\n",
    "from cryptography.hazmat.primitives.ciphers import Cipher, algorithms, modes\n",
    "from cryptography.hazmat.primitives import padding"
   ]
  },
  {
   "cell_type": "code",
   "execution_count": null,
   "metadata": {},
   "outputs": [],
   "source": [
    "def encrypt(plain: bytes, key: bytes, iv: bytes):\n",
    "    padder = padding.PKCS7(128).padder()\n",
    "    padded_data = padder.update(plain)+padder.finalize()\n",
    "\n",
    "    cipher = Cipher(algorithms.AES(key), modes.CBC(iv))\n",
    "    encryptor = cipher.encryptor()\n",
    "    return encryptor.update(padded_data) + encryptor.finalize()\n",
    "\n",
    "\n",
    "def decrypt(ciphertext: bytes, key: bytes, iv: bytes):\n",
    "    cipher = Cipher(algorithms.AES(key), modes.CBC(iv))\n",
    "    decryptor = cipher.decryptor()\n",
    "    padded_data = decryptor.update(ciphertext) + decryptor.finalize()\n",
    "\n",
    "    unpadder = padding.PKCS7(128).unpadder()\n",
    "    return unpadder.update(padded_data)+unpadder.finalize()\n"
   ]
  },
  {
   "cell_type": "code",
   "execution_count": null,
   "metadata": {},
   "outputs": [],
   "source": [
    "\n",
    "def main(arguments):\n",
    "    parser = argparse.ArgumentParser(\n",
    "        formatter_class=argparse.RawDescriptionHelpFormatter)\n",
    "    parser.add_argument(\n",
    "        \"-e\", \"--encrypt\", help=\"File to be encrypted\", type=str)\n",
    "    parser.add_argument(\n",
    "        \"-d\", \"--decrypt\", help=\"File to be decrypted\", type=str)\n",
    "    parser.add_argument(\n",
    "        \"-k\", \"--key\", help=\"File containing the key\", type=str)\n",
    "    parser.add_argument(\"--iv\", help=\"File containing the IV\",\n",
    "                        type=str)\n",
    "    parser.add_argument(\n",
    "        \"-o\", \"--output\", help=\"The output file\", type=argparse.FileType('w'))\n",
    "\n",
    "    args = parser.parse_args(arguments)\n",
    "\n",
    "    if not args.key:\n",
    "        print(\"Key file must be provided\", file=sys.stderr)\n",
    "        exit(1)\n",
    "    else:\n",
    "        key = bytes.fromhex(args.key)\n",
    "\n",
    "        if len(key) not in (16, 24, 32):\n",
    "            print(\"Unacceptable key length. It must be one of 128, 192, 256 bits\")\n",
    "            exit(1)\n",
    "\n",
    "    if not args.iv:\n",
    "        print(\"IV file must be provided\", file=sys.stderr)\n",
    "        exit(1)\n",
    "    else:\n",
    "        iv = bytes.fromhex(args.iv)\n",
    "        if len(iv) != 16:\n",
    "            print(\"Unacceptable iv length. It must be 128 bits\")\n",
    "            exit(1)\n",
    "\n",
    "    if args.encrypt:\n",
    "        plaintext: bytes = args.encrypt.encode()\n",
    "\n",
    "        ciphertext = encrypt(plaintext, key, iv)\n",
    "        if args.output:\n",
    "            args.output.write(f\"Encrypted:\\n{ciphertext.hex()}\\n\")\n",
    "        else:\n",
    "            print(f\"Encrypted:\\n{ciphertext.hex()}\")\n",
    "\n",
    "    if args.decrypt:\n",
    "        ciphertext: bytes = bytes.fromhex(args.decrypt)\n",
    "\n",
    "        plaintext = decrypt(ciphertext, key, iv)\n",
    "        if args.output:\n",
    "            args.output.write(f\"Decrypted:\\n{plaintext.decode()}\\n\")\n",
    "        else:\n",
    "            print(f\"Decrypted:\\n{plaintext.decode()}\")\n",
    "\n",
    "\n"
   ]
  },
  {
   "cell_type": "code",
   "execution_count": null,
   "metadata": {},
   "outputs": [],
   "source": [
    "\n",
    "sys.argv = [\"\", \"-e\",  \"AES is based on a design principle known as a substitution-permutation network, and is efficient in both software and hardware. Unlike its predecessor DES, AES does not use a Feistel network. AES is a variant of Rijndael, with a fixed block size of 128 bits, and a key size of 128, 192, or 256 bits. By contrast, Rijndael per se is specified with block and key sizes that may be any multiple of 32 bits, with a minimum of 128 and a maximum of 256 bits. Most AES calculations are done in a particular finite field.\",\n",
    "            \"-d\", \"3f9f9ca5114ad204447e6217512803775f992bff0c4751524842e8b40c0eae2b677994ac291d3baaf76665eff2e95ae5361ea168113c46f7f685ae2f716dec51646005d73e033ef2bf4edadfe231b44c95963c9704d8859ceec60a3ca6d0fbe10e4f52d0889c98ab6c95ee91f027af87f5eede40ce291642ee5210be6b8e50940a03f0916143cb2cfec3a95678f8eb3c362f39fd8173c203433f8d2416b9865f3960045b1737dee204d8d98d222c802fb5d932a469f80a96bfd180c8c147a8af73c6b9103ad4c54b262770f6804524eaa0ed4ce50140dfc6c36ac727a5cc3805115173013c8cb0c5dfcc20906b1c0138a037331ac5c233fba713ed52d3eb0910f8d4344e2ed798dfe3121e162492e6cfa83eda22396b81fe9ba2839333bee6b0f6c5208ab6405e3cba3663de227368ec84ebd997473e98aeca7a69d96340be170ed50e7e6868cfe44aa99c62e3bca856543fb4df6a0646e980bd81f860e6fecf9574a3449d19a0df2b6febbfeb3c9ac6973c7c8792516c11d21b0b9b12b22e2178ea4022803d0c65a1e9f887d66eb7d9cb9a7abf9c13267ab902da4f05935270b1a628687eea38ecbfe6a503418ada1fddc411108b0186bdd64e0adb5dc25069814c9bd37a9e90b2634e60077458ca7002846e8d2217dac2c8699fdcc451a2aa6d17217213759ee0f52b52d856105421be06873c4581e653b2fe288020cd55e5574c2e3dc2f37f41a3d4f4e3b1a7f10a\",\n",
    "            \"-k\", \"ecb902004aa569070189aabcacf34effecbb02004aa569073989a00cacf34eff\",\n",
    "            \"--iv\", \"9a090a4fa5692015689aab07acf34e2c\",\n",
    "            \"-o\", \"InputFiles/Q4/dec.txt\"\n",
    "        ]\n",
    "\n",
    "main(sys.argv[1:])"
   ]
  },
  {
   "cell_type": "code",
   "execution_count": 2,
   "metadata": {},
   "outputs": [
    {
     "name": "stdout",
     "output_type": "stream",
     "text": [
      "----------------------------------------Plaintext--------------------------------------\n",
      "AES is based on a design principle known as a substitution-permutation network, and is efficient in both software and hardware. \n",
      "Unlike its predecessor DES, AES does not use a Feistel network. \n",
      "AES is a variant of Rijndael, with a fixed block size of 128 bits, and a key size of 128, 192, or 256 bits. \n",
      "By contrast, Rijndael per se is specified with block and key sizes that may be any multiple of 32 bits, with a minimum of 128 and a maximum of 256 bits. \n",
      "Most AES calculations are done in a particular finite field.\n",
      "----------------------------------------Ciphertext--------------------------------------\n",
      "3f9f9ca5114ad204447e6217512803775f992bff0c4751524842e8b40c0eae2b677994ac291d3baaf76665eff2e95ae5361ea168113c46f7f685ae2f716dec51646005d73e033ef2bf4edadfe231b44c95963c9704d8859ceec60a3ca6d0fbe10e4f52d0889c98ab6c95ee91f027af87f5eede40ce291642ee5210be6b8e50940a03f0916143cb2cfec3a95678f8eb3c362f39fd8173c203433f8d2416b9865f3960045b1737dee204d8d98d222c802fb5d932a469f80a96bfd180c8c147a8af73c6b9103ad4c54b262770f6804524eaa0ed4ce50140dfc6c36ac727a5cc3805115173013c8cb0c5dfcc20906b1c0138a037331ac5c233fba713ed52d3eb0910f8d4344e2ed798dfe3121e162492e6cfa83eda22396b81fe9ba2839333bee6b0f6c5208ab6405e3cba3663de227368ec84ebd997473e98aeca7a69d96340be170ed50e7e6868cfe44aa99c62e3bca856543fb4df6a0646e980bd81f860e6fecf9574a3449d19a0df2b6febbfeb3c9ac6973c7c8792516c11d21b0b9b12b22e2178ea4022803d0c65a1e9f887d66eb7d9cb9a7abf9c13267ab902da4f05935270b1a628687eea38ecbfe6a503418ada1fddc411108b0186bdd64e0adb5dc25069814c9bd37a9e90b2634e60077458ca7002846e8d2217dac2c8699fdcc451a2aa6d17217213759ee0f52b52d856105421be06873c4581e653b2fe288020cd55e5574c2e3dc2f37f41a3d4f4e3b1a7f10a\n",
      "----------------------------------------Key--------------------------------------\n",
      "ecb902004aa569070189aabcacf34effecbb02004aa569073989a00cacf34eff\n",
      "----------------------------------------IV--------------------------------------\n",
      "9a090a4fa5692015689aab07acf34e2c\n",
      "----------------------------------------OutPut FIles--------------------------------------\n",
      "Encrypted:\n",
      "3f9f9ca5114ad204447e6217512803775f992bff0c4751524842e8b40c0eae2b677994ac291d3baaf76665eff2e95ae5361ea168113c46f7f685ae2f716dec51646005d73e033ef2bf4edadfe231b44c95963c9704d8859ceec60a3ca6d0fbe10e4f52d0889c98ab6c95ee91f027af87f5eede40ce291642ee5210be6b8e50940a03f0916143cb2cfec3a95678f8eb3c362f39fd8173c203433f8d2416b9865f3960045b1737dee204d8d98d222c802fb5d932a469f80a96bfd180c8c147a8af73c6b9103ad4c54b262770f6804524eaa0ed4ce50140dfc6c36ac727a5cc3805115173013c8cb0c5dfcc20906b1c0138a037331ac5c233fba713ed52d3eb0910f8d4344e2ed798dfe3121e162492e6cfa83eda22396b81fe9ba2839333bee6b0f6c5208ab6405e3cba3663de227368ec84ebd997473e98aeca7a69d96340be170ed50e7e6868cfe44aa99c62e3bca856543fb4df6a0646e980bd81f860e6fecf9574a3449d19a0df2b6febbfeb3c9ac6973c7c8792516c11d21b0b9b12b22e2178ea4022803d0c65a1e9f887d66eb7d9cb9a7abf9c13267ab902da4f05935270b1a628687eea38ecbfe6a503418ada1fddc411108b0186bdd64e0adb5dc25069814c9bd37a9e90b2634e60077458ca7002846e8d2217dac2c8699fdcc451a2aa6d17217213759ee0f52b52d856105421be06873c4581e653b2fe288020cd55e5574c2e3dc2f37f41a3d4f4e3b1a7f10a\n",
      "Decrypted:\n",
      "AES is based on a design principle known as a substitution-permutation network, and is efficient in both software and hardware. \n",
      "Unlike its predecessor DES, AES does not use a Feistel network. \n",
      "AES is a variant of Rijndael, with a fixed block size of 128 bits, and a key size of 128, 192, or 256 bits. \n",
      "By contrast, Rijndael per se is specified with block and key sizes that may be any multiple of 32 bits, with a minimum of 128 and a maximum of 256 bits. \n",
      "Most AES calculations are done in a particular finite field.\n",
      "\n"
     ]
    }
   ],
   "source": [
    "print(\"----------------------------------------Plaintext--------------------------------------\")\n",
    "with open(\"InputFiles/Q4/plaintext.txt\", \"r\") as file:\n",
    "    content = file.read()\n",
    "    print(content)\n",
    "print(\"----------------------------------------Ciphertext--------------------------------------\")\n",
    "with open(\"InputFiles/Q4/ciphertext.txt\", \"r\") as file:\n",
    "    content = file.read()\n",
    "    print(content)\n",
    "\n",
    "print(\"----------------------------------------Key--------------------------------------\")\n",
    "with open(\"InputFiles/Q4/key.txt\", \"r\") as file:\n",
    "    content = file.read()\n",
    "    print(content)\n",
    "print(\"----------------------------------------IV--------------------------------------\")\n",
    "with open(\"InputFiles/Q4/iv.txt\", \"r\") as file:\n",
    "    content = file.read()\n",
    "    print(content)\n",
    "print(\"----------------------------------------OutPut FIles--------------------------------------\")\n",
    "with open(\"InputFiles/Q4/dec.txt\", \"r\") as file:\n",
    "    content = file.read()\n",
    "    print(content)"
   ]
  }
 ],
 "metadata": {
  "kernelspec": {
   "display_name": "Python 3",
   "language": "python",
   "name": "python3"
  },
  "language_info": {
   "codemirror_mode": {
    "name": "ipython",
    "version": 3
   },
   "file_extension": ".py",
   "mimetype": "text/x-python",
   "name": "python",
   "nbconvert_exporter": "python",
   "pygments_lexer": "ipython3",
   "version": "3.12.3"
  }
 },
 "nbformat": 4,
 "nbformat_minor": 2
}
