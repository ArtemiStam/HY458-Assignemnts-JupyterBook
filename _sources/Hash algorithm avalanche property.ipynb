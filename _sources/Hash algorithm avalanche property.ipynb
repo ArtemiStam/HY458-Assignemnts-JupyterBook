{
 "cells": [
  {
   "cell_type": "markdown",
   "metadata": {},
   "source": [
    "# Hash algorithm avalanche property"
   ]
  },
  {
   "cell_type": "markdown",
   "metadata": {},
   "source": [
    "Create a Python program that computes the MD5, SHA-1 and SHA-256 sum of the contents of a given text file and then again those hash sums of the contents of the same file after changing the first character read from that text file to “A”.\n",
    "\n",
    "Then for each hashing algorithm, compare the bit changes between the original hash digest and the hash digest of the modified file and print what percentage of bits changed.\n",
    "\n",
    "You can assume that the file will never be empty and that the first character will never be “A”."
   ]
  },
  {
   "cell_type": "code",
   "execution_count": null,
   "metadata": {},
   "outputs": [],
   "source": [
    "import sys\n",
    "from cryptography.hazmat.primitives import hashes\n",
    "import argparse\n",
    "\n"
   ]
  },
  {
   "cell_type": "code",
   "execution_count": null,
   "metadata": {},
   "outputs": [],
   "source": [
    "\n",
    "def bytes_to_int(text: bytes):\n",
    "    return int.from_bytes(text, 'big')\n",
    "\n",
    "\n",
    "def int_to_bytes(num):\n",
    "    num_int = int(num)\n",
    "    return int.to_bytes(num_int, (num_int.bit_length()+7)//8, \"big\")\n"
   ]
  },
  {
   "cell_type": "code",
   "execution_count": null,
   "metadata": {},
   "outputs": [],
   "source": [
    "\n",
    "def xor(a: bytes, b: bytes):\n",
    "    return bytes([char_a ^ char_b for char_a, char_b in zip(a, b)])\n",
    "\n",
    "\n",
    "def get_diff(a: bytes, b: bytes):\n",
    "    return bytes_to_int(xor(a, b)).bit_count()\n",
    "\n",
    "\n",
    "def main(arguments):\n",
    "    parser = argparse.ArgumentParser(\n",
    "        formatter_class=argparse.RawDescriptionHelpFormatter)\n",
    "    parser.add_argument(\n",
    "        \"-f\", \"--file\", help=\"String to be digest\", type=str)\n",
    "\n",
    "    args = parser.parse_args(arguments)\n",
    "\n",
    "    if args.file:\n",
    "        contents: bytes = args.file.encode()\n",
    "\n",
    "        md5_hasher = hashes.Hash(hashes.MD5())\n",
    "        md5_hasher.update(contents)\n",
    "        md5_hash_orig = md5_hasher.finalize()\n",
    "\n",
    "        sha1_hasher = hashes.Hash(hashes.SHA1())\n",
    "        sha1_hasher.update(contents)\n",
    "        sha1_hash_orig = sha1_hasher.finalize()\n",
    "\n",
    "        sha256_hasher = hashes.Hash(hashes.SHA256())\n",
    "        sha256_hasher.update(contents)\n",
    "        sha256_hash_orig = sha256_hasher.finalize()\n",
    "\n",
    "        contents = b'A'+contents[1:]\n",
    "        md5_hasher = hashes.Hash(hashes.MD5())\n",
    "        md5_hasher.update(contents)\n",
    "        md5_hash_changed = md5_hasher.finalize()\n",
    "\n",
    "        sha1_hasher = hashes.Hash(hashes.SHA1())\n",
    "        sha1_hasher.update(contents)\n",
    "        sha1_hash_changed = sha1_hasher.finalize()\n",
    "\n",
    "        sha256_hasher = hashes.Hash(hashes.SHA256())\n",
    "        sha256_hasher.update(contents)\n",
    "        sha256_hash_changed = sha256_hasher.finalize()\n",
    "\n",
    "        print(\n",
    "            f\"MD5:\\t{get_diff(md5_hash_orig, md5_hash_changed)/(len(md5_hash_orig)*8)*100: .3f}%\")\n",
    "        print(\n",
    "            f\"SHA1:\\t{get_diff(sha1_hash_orig,sha1_hash_changed)/(len(sha1_hash_orig)*8)*100: .3f}%\")\n",
    "        print(\n",
    "            f\"SHA256:\\t{get_diff(sha256_hash_orig,sha256_hash_changed)/(len(sha256_hash_orig)*8)*100: .3f}%\")\n",
    "\n",
    "\n"
   ]
  },
  {
   "cell_type": "code",
   "execution_count": null,
   "metadata": {},
   "outputs": [],
   "source": [
    "sys.argv = [\n",
    "    \"\",\n",
    "    \"-f\", \"Hello, World!\"\n",
    "    ]\n",
    "main(sys.argv[1:])"
   ]
  }
 ],
 "metadata": {
  "kernelspec": {
   "display_name": "Python 3",
   "language": "python",
   "name": "python3"
  },
  "language_info": {
   "name": "python",
   "version": "3.12.3"
  }
 },
 "nbformat": 4,
 "nbformat_minor": 2
}
