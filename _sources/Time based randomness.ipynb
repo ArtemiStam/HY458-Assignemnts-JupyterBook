{
 "cells": [
  {
   "cell_type": "markdown",
   "metadata": {},
   "source": [
    "# Time based randomness"
   ]
  },
  {
   "cell_type": "markdown",
   "metadata": {},
   "source": [
    "Create a Python program to decrypt the contents of a given ciphertext encrypted in AES-128-ECB by trying to guess the key, which was generated using the code shown below:\n",
    "\n",
    "    import random\n",
    "    import time\n",
    "    r = random.Random(int(time.time()))\n",
    "    bits = r.getrandbits(128)\n",
    "    key = bits.to_bytes(16, 'big')\n",
    "\n",
    "\n",
    "Your program should also take as command line arguments a minimum Unix time and a maximum Unix time, as a range and try iterating between these two points as seed values for the random function. The dictionary “dictionary_1000.txt” and catching of padding exceptions can be used to determine the successful decryption of the given ciphertext. PKCS7 padding should be used for this exercise.\n",
    "\n",
    "Your program should support the following arguments:\n",
    "\n",
    "● -c ciphertext file: Ciphertext file\n",
    "\n",
    "● -max Unix time: Max Unix time\n",
    "\n",
    "● -min Unix time: Min Unix time\n"
   ]
  },
  {
   "cell_type": "code",
   "execution_count": null,
   "metadata": {},
   "outputs": [],
   "source": [
    "from cryptography.hazmat.primitives.ciphers import Cipher, algorithms, modes\n",
    "from cryptography.hazmat.primitives import padding\n",
    "import argparse\n",
    "import random\n",
    "import sys"
   ]
  },
  {
   "cell_type": "code",
   "execution_count": null,
   "metadata": {},
   "outputs": [],
   "source": [
    "\n",
    "def get_key(seed: int):\n",
    "    r = random.Random(seed)\n",
    "    bits = r.getrandbits(128)\n",
    "    key = bits.to_bytes(16, 'big')\n",
    "\n",
    "    return key\n",
    "\n",
    "\n",
    "def decrypt(ciphertext: bytes, key: bytes):\n",
    "    cipher = Cipher(algorithms.AES128(key), modes.ECB())\n",
    "    decryptor = cipher.decryptor()\n",
    "\n",
    "    padded_data = decryptor.update(ciphertext) + decryptor.finalize()\n",
    "\n",
    "    unpadder = padding.PKCS7(128).unpadder()\n",
    "    return unpadder.update(padded_data)+unpadder.finalize()\n"
   ]
  },
  {
   "cell_type": "code",
   "execution_count": null,
   "metadata": {},
   "outputs": [],
   "source": [
    "\n",
    "def main(arguments):\n",
    "    parser = argparse.ArgumentParser(\n",
    "        formatter_class=argparse.RawDescriptionHelpFormatter)\n",
    "    parser.add_argument(\n",
    "        \"-c\", \"--ciphertext\", help=\"Ciphertext file\", type=argparse.FileType('r'), required=True)\n",
    "    parser.add_argument(\"--max\", help=\"Max UNIX time\", type=int, required=True)\n",
    "    parser.add_argument(\"--min\", help=\"Min UNIX time\", type=int, required=True)\n",
    "\n",
    "    args = parser.parse_args(arguments)\n",
    "\n",
    "    cipher = bytes.fromhex(args.ciphertext.read())\n",
    "    print(\"ciphertext:\"+str(cipher))\n",
    "    max_attempt = {'seed': 0, 'score': 0, 'result': \"\", 'key': \"\"}\n",
    "\n",
    "    with open(\"dictionary_1000.txt\") as dictionary:\n",
    "        dict_words = dictionary.read().encode().splitlines()\n",
    "\n",
    "    for i in range(args.min, args.max+1):\n",
    "        try:\n",
    "            key = get_key(i)\n",
    "            attempt = decrypt(cipher, key)\n",
    "        except ValueError:\n",
    "            pass\n",
    "        else:\n",
    "            count = 0\n",
    "            for word in attempt.split():\n",
    "                if word.lower() in dict_words:\n",
    "                    count += 1\n",
    "\n",
    "            if count > max_attempt[\"score\"]:\n",
    "                max_attempt[\"seed\"] = i\n",
    "                max_attempt[\"key\"] = key\n",
    "                max_attempt[\"score\"] = count\n",
    "                max_attempt[\"result\"] = attempt\n",
    "\n",
    "    if max_attempt[\"seed\"]:\n",
    "        print(f\"Possible recovered key: {max_attempt['key'].hex()}\")\n",
    "        print(f\"Possible key generation time: {max_attempt['seed']}\")\n",
    "        print(f\"Possible plaintext:\\n{max_attempt['result'].decode()}\")\n",
    "\n",
    "\n"
   ]
  },
  {
   "cell_type": "code",
   "execution_count": null,
   "metadata": {},
   "outputs": [],
   "source": [
    "\n",
    "sys.argv = [\n",
    "    \"\", \n",
    "    \"-c\", \"InputFiles/Q8/ciphertext_unix_time_is_1668478123.txt\",\n",
    "    \"--max\", \"1700000000\",\n",
    "    \"--min\", \"1600000000\"\n",
    "]\n",
    "main(sys.argv[1:])\n"
   ]
  }
 ],
 "metadata": {
  "kernelspec": {
   "display_name": "Python 3",
   "language": "python",
   "name": "python3"
  },
  "language_info": {
   "name": "python",
   "version": "3.12.3"
  }
 },
 "nbformat": 4,
 "nbformat_minor": 2
}
