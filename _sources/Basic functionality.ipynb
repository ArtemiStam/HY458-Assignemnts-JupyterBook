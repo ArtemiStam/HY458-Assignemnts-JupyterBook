{
 "cells": [
  {
   "cell_type": "markdown",
   "metadata": {},
   "source": [
    "# Basic functionality"
   ]
  },
  {
   "cell_type": "markdown",
   "metadata": {},
   "source": [
    "Create a Python program that will read one “rsp” file, similar to “input.rsp”, and parse out the expected plaintexts and ciphertexts for encryption and decryption respectively using AES-128-ECB. \n",
    "\n",
    "The given plaintexts and ciphertexts will be hexadecimal strings.Using those inputs, test and validate the AES library you will be using, while printing the results\n",
    "in the console.\n",
    "\n",
    "For all plaintext, ciphertext pairs you can assume that the key will always be all zeros, hence you can ignore the keys while parsing an “rsp” file."
   ]
  },
  {
   "cell_type": "code",
   "execution_count": 1,
   "metadata": {},
   "outputs": [],
   "source": [
    "import re\n",
    "from cryptography.hazmat.primitives.ciphers import Cipher, algorithms, modes\n",
    "\n",
    "ENCRYPT = 0\n",
    "DECRYPT = 1"
   ]
  },
  {
   "cell_type": "code",
   "execution_count": 2,
   "metadata": {},
   "outputs": [
    {
     "data": {
      "text/markdown": [
       "```\n",
       "[ENCRYPT]\n",
       "COUNT = 0\n",
       "KEY = 00000000000000000000000000000000\n",
       "PLAINTEXT = f34481ec3cc627bacd5dc3fb08f273e6\n",
       "CIPHERTEXT = 0336763e966d92595a567cc9ce537f5e\n",
       "COUNT = 1\n",
       "KEY = 00000000000000000000000000000000\n",
       "PLAINTEXT = 9798c4640bad75c7c3227db910174e72\n",
       "CIPHERTEXT = a9a1631bf4996954ebc093957b234589\n",
       "COUNT = 2\n",
       "KEY = 00000000000000000000000000000000\n",
       "PLAINTEXT = 96ab5c2ff612d9dfaae8c31f30c42168\n",
       "CIPHERTEXT = ff4f8391a6a40ca5b25d23bedd44a597\n",
       "COUNT = 3\n",
       "KEY = 00000000000000000000000000000000\n",
       "PLAINTEXT = 6a118a874519e64e9963798a503f1d35\n",
       "CIPHERTEXT = dc43be40be0e53712f7e2bf5ca707209\n",
       "[DECRYPT]\n",
       "COUNT = 0\n",
       "KEY = 00000000000000000000000000000000\n",
       "CIPHERTEXT = 0336763e966d92595a567cc9ce537f5e\n",
       "PLAINTEXT = f34481ec3cc627bacd5dc3fb08f273e6\n",
       "COUNT = 1\n",
       "KEY = 00000000000000000000000000000000\n",
       "CIPHERTEXT = a9a1631bf4996954ebc093957b234589\n",
       "PLAINTEXT = 9798c4640bad75c7c3227db910174e72\n",
       "COUNT = 2\n",
       "KEY = 00000000000000000000000000000000\n",
       "CIPHERTEXT = ff4f8391a6a40ca5b25d23bedd44a597\n",
       "PLAINTEXT = 96ab5c2ff612d9dfaae8c31f30c42168\n",
       "COUNT = 3\n",
       "KEY = 00000000000000000000000000000000\n",
       "CIPHERTEXT = dc43be40be0e53712f7e2bf5ca707209\n",
       "PLAINTEXT = 6a118a874519e64e9963798a503f1d35\n",
       "\n",
       "\n",
       "```"
      ],
      "text/plain": [
       "<IPython.core.display.Markdown object>"
      ]
     },
     "execution_count": 2,
     "metadata": {},
     "output_type": "execute_result"
    }
   ],
   "source": [
    "# Reading and displaying an .rsp file\n",
    "with open(\"input.rsp\", \"r\") as file:\n",
    "    content = file.read()\n",
    "\n",
    "# Display the content\n",
    "from IPython.display import Markdown\n",
    "Markdown(f\"```\\n{content}\\n```\")\n"
   ]
  },
  {
   "cell_type": "code",
   "execution_count": null,
   "metadata": {},
   "outputs": [],
   "source": [
    "def get_plaintext(line: str):\n",
    "    plaintext = re.search(r\"(?<=PLAINTEXT = )[0-9A-F]+\", line, re.IGNORECASE)\n",
    "    if plaintext:\n",
    "        return bytes.fromhex(plaintext[0])\n",
    "    else:\n",
    "        raise ValueError(f\"Invalid file syntax. Expected plaintext, got {line}\")\n",
    "\n",
    "\n",
    "def get_ciphertext(line: str):\n",
    "    ciphertext = re.search(r\"(?<=CIPHERTEXT = )[0-9A-F]+\", line, re.IGNORECASE)\n",
    "    if ciphertext:\n",
    "        return bytes.fromhex(ciphertext[0])\n",
    "    else:\n",
    "        raise ValueError(f\"Invalid file syntax. Expected ciphertext, got {line}\")\n",
    "\n",
    "\n",
    "def parse_file(filename: str):\n",
    "    with open(filename) as rsp_file:\n",
    "        lines = rsp_file.read().splitlines()\n",
    "\n",
    "    lines = [line for line in lines if line and line[0] != '#']\n",
    "\n",
    "    contents = {ENCRYPT: [], DECRYPT: []}\n",
    "    state = -1\n",
    "\n",
    "    i = 0\n",
    "\n",
    "    while i < len(lines):\n",
    "        line = lines[i]\n",
    "\n",
    "        if line.upper() == \"[ENCRYPT]\":\n",
    "            state = ENCRYPT\n",
    "            i += 1\n",
    "        elif line.upper() == \"[DECRYPT]\":\n",
    "            state = DECRYPT\n",
    "            i += 1\n",
    "        else:\n",
    "            # key = re.search(r\"(?<=KEY = )\\d+\", lines[i+1])\n",
    "            # if key:\n",
    "            #     key = int(key[0])\n",
    "            # else:\n",
    "            #     raise ValueError(f\"Invalid file syntax. Expected key, got {lines[i+1]}\")\n",
    "\n",
    "            if state == ENCRYPT:\n",
    "                plaintext = get_plaintext(lines[i+2])\n",
    "                ciphertext = get_ciphertext(lines[i+3])\n",
    "            elif state == DECRYPT:\n",
    "                ciphertext = get_ciphertext(lines[i+2])\n",
    "                plaintext = get_plaintext(lines[i+3])\n",
    "            else:\n",
    "                raise ValueError(\"Report this to the developer\")\n",
    "\n",
    "            contents[state].append((b'\\x00'*16, plaintext, ciphertext))\n",
    "            i += 4\n",
    "\n",
    "    return contents"
   ]
  },
  {
   "cell_type": "code",
   "execution_count": null,
   "metadata": {},
   "outputs": [],
   "source": [
    "def encrypt(plain: bytes, key: bytes):\n",
    "    cipher = Cipher(algorithms.AES128(key), modes.ECB())\n",
    "    encryptor = cipher.encryptor()\n",
    "    return encryptor.update(plain) + encryptor.finalize()\n",
    "\n",
    "\n",
    "def decrypt(ciphertext: bytes, key: bytes):\n",
    "    cipher = Cipher(algorithms.AES128(key), modes.ECB())\n",
    "    decryptor = cipher.decryptor()\n",
    "    return decryptor.update(ciphertext) + decryptor.finalize()"
   ]
  },
  {
   "cell_type": "code",
   "execution_count": null,
   "metadata": {},
   "outputs": [],
   "source": [
    "def main():\n",
    "    file_contents = parse_file(\"input.rsp\")\n",
    "\n",
    "    print(\"=== Encryption ===\")\n",
    "\n",
    "    for i, test in enumerate(file_contents[ENCRYPT]):\n",
    "        cipher = encrypt(test[1], test[0])\n",
    "        print(f\"Test {i}: target {test[2].hex()} - result {cipher.hex()} [{'PASS' if cipher==test[2] else 'FAIL'}]\")\n",
    "\n",
    "    print(\"=== Decryption ===\")\n",
    "\n",
    "    for i, test in enumerate(file_contents[DECRYPT]):\n",
    "        plain = decrypt(test[2], test[0])\n",
    "        print(f\"Test {i}: target {test[1].hex()} - result {plain.hex()} [{'PASS' if plain==test[1] else 'FAIL'}]\")\n",
    "\n",
    "\n",
    "if __name__ == \"__main__\":\n",
    "    main()"
   ]
  }
 ],
 "metadata": {
  "kernelspec": {
   "display_name": "Python 3",
   "language": "python",
   "name": "python3"
  },
  "language_info": {
   "codemirror_mode": {
    "name": "ipython",
    "version": 3
   },
   "file_extension": ".py",
   "mimetype": "text/x-python",
   "name": "python",
   "nbconvert_exporter": "python",
   "pygments_lexer": "ipython3",
   "version": "3.12.3"
  }
 },
 "nbformat": 4,
 "nbformat_minor": 2
}
