{
 "cells": [
  {
   "cell_type": "markdown",
   "metadata": {},
   "source": [
    "# CTR: Integrity issues"
   ]
  },
  {
   "cell_type": "markdown",
   "metadata": {},
   "source": [
    "Encrypt the contents of receipt.txt using AES-256-CTR, with a key and IV of your choosing. Calculate the size of the header up through the identification of the recipient and extract that many bytes of the encrypted data.\n",
    "\n",
    "XOR the plaintext header with the ciphertext header to get the keystream. Once you have this, XOR the extracted keystream with a header identifying Elon Tusk as the recipient.\n",
    "Copy the new header ciphertext over the bytes of the encrypted file to create a new message identifying Elon Tusk a the recipient of the money.\n",
    "\n",
    "Now repeat the same process, changing the amount of money the recipient should receive to $9.999.999\n",
    "In the end you should have a ciphertext which when decrypted will acknowledge that Elon Tusk should receive $9.999.999.\n",
    "\n",
    "Prove that it works by printing in the console the original and modified ciphertexts as well as the modified message"
   ]
  },
  {
   "cell_type": "code",
   "execution_count": null,
   "metadata": {},
   "outputs": [],
   "source": [
    "\n",
    "import secrets\n",
    "from cryptography.hazmat.primitives.ciphers import Cipher, algorithms, modes\n",
    "\n"
   ]
  },
  {
   "cell_type": "code",
   "execution_count": null,
   "metadata": {},
   "outputs": [],
   "source": [
    "\n",
    "def xor(a: bytes, b: bytes):\n",
    "    return bytes([char_a ^ char_b for char_a, char_b in zip(a, b)])\n",
    "\n",
    "\n",
    "def encrypt_CTR(plain: bytes, key: bytes, nonce: bytes):\n",
    "    cipher = Cipher(algorithms.AES256(key), modes.CTR(nonce))\n",
    "    encryptor = cipher.encryptor()\n",
    "    return encryptor.update(plain) + encryptor.finalize()\n",
    "\n",
    "\n",
    "def corrupt(plain: bytes, cipher: bytes):\n",
    "    keystream = xor(plain, cipher)\n",
    "    cipher = bytearray(cipher)\n",
    "\n",
    "    cipher[39] = keystream[39] ^ ord('T')\n",
    "    cipher[99:108] = xor(keystream[99:108], b'9.999.999')\n",
    "\n",
    "    return bytes(cipher)\n",
    "\n",
    "\n",
    "def decrypt_CTR(ciphertext: bytes, key: bytes, nonce: bytes):\n",
    "    cipher = Cipher(algorithms.AES256(key), modes.CTR(nonce))\n",
    "    decryptor = cipher.decryptor()\n",
    "    return decryptor.update(ciphertext) + decryptor.finalize()\n"
   ]
  },
  {
   "cell_type": "code",
   "execution_count": null,
   "metadata": {},
   "outputs": [],
   "source": [
    "\n",
    "def main(receipt):\n",
    "    \n",
    "    \n",
    "    plain = receipt.encode()\n",
    "\n",
    "    key = secrets.token_bytes(32)\n",
    "    nonce = secrets.token_bytes(16)\n",
    "\n",
    "    cipher = encrypt_CTR(plain, key, nonce)\n",
    "    corrupted = corrupt(plain, cipher)\n",
    "\n",
    "    decrypted = decrypt_CTR(corrupted, key, nonce)\n",
    "    print(f\"Key: {key.hex()}\")\n",
    "    print(f\"Nonce: {nonce.hex()}\")\n",
    "\n",
    "    print(f\"Original ciphertext: {cipher.hex()}\")\n",
    "    print(f\"Generated ciphertext: {corrupted.hex()}\")\n",
    "    print(f\"Generated plaintext: \")\n",
    "    print(decrypted.decode())\n",
    "\n",
    "\n"
   ]
  },
  {
   "cell_type": "code",
   "execution_count": null,
   "metadata": {},
   "outputs": [],
   "source": [
    "if __name__ == \"__main__\":\n",
    "\n",
    "    reciept = \"CreditCardPurchase  Recipient: Elon Musk Buyer: Jeff Bezos Date: 02/04/2020 Amount:$1.000.000  CCNumber: 555-555-555-555\"\n",
    "\n",
    "    main(reciept)"
   ]
  }
 ],
 "metadata": {
  "kernelspec": {
   "display_name": "Python 3",
   "language": "python",
   "name": "python3"
  },
  "language_info": {
   "codemirror_mode": {
    "name": "ipython",
    "version": 3
   },
   "file_extension": ".py",
   "mimetype": "text/x-python",
   "name": "python",
   "nbconvert_exporter": "python",
   "pygments_lexer": "ipython3",
   "version": "3.12.3"
  }
 },
 "nbformat": 4,
 "nbformat_minor": 2
}
