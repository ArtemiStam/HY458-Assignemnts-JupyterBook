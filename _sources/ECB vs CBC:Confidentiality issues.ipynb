{
 "cells": [
  {
   "cell_type": "markdown",
   "metadata": {},
   "source": [
    "# ECB vs CBC: Confidentiality issues"
   ]
  },
  {
   "cell_type": "markdown",
   "metadata": {},
   "source": [
    "Create a Python program that reads in the image file “tux.bmp” and encrypts everything except the first 54 bytes, using AES-128-ECB. \n",
    "\n",
    "The reason we’re not encrypting the first 54 bytes is because this program is going to encrypt the contents of a bitmap file (BMP) and the header is 54 bytes in length.\n",
    "\n",
    "Write out the concatenation of the first 54 bytes and the encrypted body in an output image file.\n",
    "\n",
    "Open the resulting image and see if you can still understand what the image could be.\n",
    "\n",
    "Now repeat the same process using AES-128-CBC. Can you still understand what the image could be? For both encryption processes used above you can use a key and IV of your choosing.\n",
    "\n",
    "Padding should not be considered for this exercise."
   ]
  },
  {
   "cell_type": "code",
   "execution_count": 1,
   "metadata": {},
   "outputs": [],
   "source": [
    "import secrets\n",
    "from cryptography.hazmat.primitives.ciphers import Cipher, algorithms, modes\n"
   ]
  },
  {
   "cell_type": "code",
   "execution_count": 2,
   "metadata": {},
   "outputs": [],
   "source": [
    "def encrypt_ECB(plain: bytes, key: bytes):\n",
    "    cipher = Cipher(algorithms.AES128(key), modes.ECB())\n",
    "    encryptor = cipher.encryptor()\n",
    "    return encryptor.update(plain) + encryptor.finalize()\n",
    "\n",
    "\n",
    "def encrypt_CBC(plain: bytes, key: bytes, iv: bytes):\n",
    "    cipher = Cipher(algorithms.AES128(key), modes.CBC(iv))\n",
    "    encryptor = cipher.encryptor()\n",
    "    return encryptor.update(plain) + encryptor.finalize()\n"
   ]
  },
  {
   "cell_type": "markdown",
   "metadata": {},
   "source": [
    "![Source Image](tux.bmp)\n"
   ]
  },
  {
   "cell_type": "code",
   "execution_count": 3,
   "metadata": {},
   "outputs": [
    {
     "name": "stdout",
     "output_type": "stream",
     "text": [
      "Key: 973acab60ddd7ebca1337fbb67a031d6\n",
      "IV: 6d6d1e87b1c9e379c1caf18adfb721c8\n"
     ]
    }
   ],
   "source": [
    "def main():\n",
    "    with open(\"tux.bmp\", \"rb\") as tux:\n",
    "        image = tux.read()\n",
    "\n",
    "    header = image[:54]\n",
    "\n",
    "    key = secrets.token_bytes(16)\n",
    "    iv = secrets.token_bytes(16)\n",
    "\n",
    "    encr_ECB = encrypt_ECB(image[54:-((len(image)-54) % 16)], key)\n",
    "    encr_CBC = encrypt_CBC(image[54:-12], key, iv)\n",
    "\n",
    "    print(f\"Key: {key.hex()}\")\n",
    "    print(f\"IV: {iv.hex()}\")\n",
    "\n",
    "    with open(\"tux-ECB.bmp\", \"wb\") as tux_ECB:\n",
    "        tux_ECB.write(header+encr_ECB)\n",
    "\n",
    "    with open(\"tux-CBC.bmp\", \"wb\") as tux_CBC:\n",
    "        tux_CBC.write(header+encr_CBC)\n",
    "\n",
    "\n",
    "if __name__ == \"__main__\":\n",
    "    main()"
   ]
  },
  {
   "cell_type": "markdown",
   "metadata": {},
   "source": [
    "![Processed Image](tux-ECB.bmp)"
   ]
  },
  {
   "cell_type": "markdown",
   "metadata": {},
   "source": [
    "![Processed Image](tux-CBC.bmp)"
   ]
  }
 ],
 "metadata": {
  "kernelspec": {
   "display_name": "Python 3",
   "language": "python",
   "name": "python3"
  },
  "language_info": {
   "codemirror_mode": {
    "name": "ipython",
    "version": 3
   },
   "file_extension": ".py",
   "mimetype": "text/x-python",
   "name": "python",
   "nbconvert_exporter": "python",
   "pygments_lexer": "ipython3",
   "version": "3.12.3"
  }
 },
 "nbformat": 4,
 "nbformat_minor": 2
}
