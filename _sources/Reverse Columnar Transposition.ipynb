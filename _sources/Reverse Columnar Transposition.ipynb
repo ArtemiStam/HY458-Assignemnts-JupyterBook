{
 "cells": [
  {
   "cell_type": "markdown",
   "id": "0a4a2e59-d31a-4d5f-b341-3f218ea131c6",
   "metadata": {
    "editable": true,
    "slideshow": {
     "slide_type": ""
    },
    "tags": []
   },
   "source": [
    "# Reverse Columnar Transposition Cipher\n",
    "## Classic Crypto "
   ]
  },
  {
   "cell_type": "markdown",
   "id": "c514f6af-4579-49fb-a23b-d81b7294919c",
   "metadata": {
    "editable": true,
    "slideshow": {
     "slide_type": ""
    },
    "tags": []
   },
   "source": [
    "<H2>Introduction</H2>\n",
    "\n",
    "\n",
    "In this assignment you are going to implement from scratch, encryption, decryption and\n",
    "cryptanalysis algorithms using Python. \n",
    "The main purpose of this assignment is to offer you the opportunity to get famiddar with the\n",
    "implementation and internals of such simple ciphers, help you understand how they work and\n",
    "find techniques for defeating them."
   ]
  },
  {
   "cell_type": "markdown",
   "id": "b70295dc-bc48-4e97-beb5-edaed06967e1",
   "metadata": {
    "editable": true,
    "jp-MarkdownHeadingCollapsed": true,
    "slideshow": {
     "slide_type": ""
    },
    "tags": []
   },
   "source": [
    "<H2>Setup</H2>\n",
    "\n",
    "For this and future assignments you will use Python 3 with ddnux, Windows or a Unix based\n",
    "machine. We will walk you through instalddng Python 3 in Ubuntu ddnux in this section.\n",
    "Installation will be sddghtly different for other versions of ddnux or Unix and may be considerably\n",
    "different for Windows.\n",
    "If you do not want to mess around with your system Python environment, we suggest creating a\n",
    "Python virtual environment using the venv module. This will configure a selected directory with a\n",
    "Python interpreter and associated modules. Any modules you install are only locally installed.\n",
    "\n",
    "First, we need to install Python 3, Pip, and the venv module:\n",
    "\n",
    "<font color='orange'>&emsp;sudo apt install python3 python3-venv python3-pip</font>\n",
    "\n",
    "Next, we create a project directory:\n",
    "\n",
    "<font color='orange'>  &emsp;mkdir hy458</font>\n",
    "\n",
    "<font color='orange'>   &emsp;cd hy458</font>\n",
    "\n",
    "Next, we use venv to set up the environment in an env directory:\n",
    "\n",
    "<font color='orange'>   &emsp;python3 -m venv env</font>\n",
    "\n",
    "This will set up the interpreter and modules within the path. Once the installation is complete,\n",
    "the environment can be used at any time by the following command:\n",
    "\n",
    "<font color='orange'>   &emsp;source env/bin/activate</font>\n",
    "\n",
    "You should now see a prefix to your shell prompt with the name of your environment.\n",
    "When working on the assignments, remember to activate your Python virtual environment first if\n",
    "you don’t want Python modules to be installed system-wide.\n",
    "For each program you are requested to implement, use the provided python script template."
   ]
  },
  {
   "cell_type": "markdown",
   "id": "8e6799ce-9bad-4618-9cca-1b7e8cf066f6",
   "metadata": {
    "editable": true,
    "slideshow": {
     "slide_type": ""
    },
    "tags": []
   },
   "source": [
    "<h2>4. Reverse Columnar Transposition Cipher</h2>\n",
    "In this exercise you are required to implement the encryption (10%) and decryption (10%) process of the reverse columnar transposition cipher. Write a python script that will take as input i) the plaintext to be encrypted and the keyword and produces a ciphertext and ii) the ciphertext to be decrypted and the keyword to produce the original plaintext .Your script should be verbose enough to include print statements for each step of the encryption and decryption process.\n",
    "\n",
    "        Example: ● python encrypt.py <keyword> <plaintext> \n",
    "                 ● Python decrypt.py <keyword> <ciphertext\n",
    "                 \n",
    "The Reverse Columnar Transposition Cipher, is a variation of the regular Columnar Transposition Cipher. This cipher rearranges the columns of a message in a specific order determined by a keyword. To encrypt a text with the cipher follow the next steps:\n",
    "\n",
    "<b>a) Keyword Selection:</b> Choose a word that will act as the key for this   cipher e.g “PASSWORD”. This should be secret and not shared. \n",
    "    \n",
    "<b>b) Arrange the keyword and plaintext in rows:</b> The plaintext is written row-wise in a grid that has the same row length as the keyword. In the final row if there are empty cells and no letters left add a padding symbol (e.g. “#”).\n",
    "\n",
    "<b>c) Transpose the plaintext based on the keyword:</b> Rearrange the columns based on the alphabetical order of the keyword. If the keyword contains a specific letter more than one time, place the same letter columns according to the order of appearance. \n",
    "    \n",
    "<b>d) Generate the ciphertext:</b> Produce the ciphertext by combining the rows from right to left until there are no more rows left. Decryption: To decrypt a ciphertext encrypted with this cipher follow the same process but in reverse. Example: \n",
    "\n",
    "    i)  Plaintext: “FAR OUT IN THE UNCHARTED BACKWATERS” \n",
    "    ii) Keyword:   “PASSWORD” \n",
    "    \n",
    "<b>Note:</b> You can capitalize all the letters and ignore all the whitespaces\n",
    "\n",
    "Will produce the following ciphertext: <b>UNBROUDEREETIHC#FTRWTCASNAK#AHTA</b>\n",
    "\n",
    "![Alt text](./reverse_columnar_transposition.png)\n",
    "\n",
    "\n",
    "<H2>Encryption Code:</H2>"
   ]
  },
  {
   "cell_type": "code",
   "execution_count": 8,
   "id": "7b874bd1-ffac-4200-a208-4528bc3cdffe",
   "metadata": {},
   "outputs": [],
   "source": [
    "import sys"
   ]
  },
  {
   "cell_type": "code",
   "execution_count": 9,
   "id": "4fbf7804-b93d-478c-95f6-d620eabd2c3a",
   "metadata": {},
   "outputs": [],
   "source": [
    "def arrange_in_rows(keyword, plaintext):    \n",
    "    grid = []\n",
    "    if (len(plaintext)/ len(keyword)).is_integer(): #if the length of the plaintext is a multiple of the legth of the keyword\n",
    "        rows = int(len(plaintext)/ len(keyword)) #return the multiple\n",
    "    else: #if the length of the plaintext is not a multiple of the legth of the length of the keyword\n",
    "        rows = int(len(plaintext)/ len(keyword)) + 1 #return how many times it fits plus 1 so that the whole plaintext can fit in the grid   \n",
    "    cols = len(keyword)\n",
    "\n",
    "    for x in range(rows):\n",
    "        grid.append([ \"#\" for x in range(cols)]) #create a grid with as many rows and columns needed filled with '#'\n",
    "\n",
    "    index = 0\n",
    "    for char in plaintext: #put every char in the plaintext in the grid\n",
    "        grid[int(index/cols)][int(index%cols)] = char \n",
    "        index = index + 1\n",
    "\n",
    "    grid.insert(0, [char for char in keyword]) #insert the keyword in the grid\n",
    "    return grid\n"
   ]
  },
  {
   "cell_type": "code",
   "execution_count": 10,
   "id": "978181d1-0143-455d-9b8d-bd74fb91513b",
   "metadata": {},
   "outputs": [],
   "source": [
    "def columnar_transposition(keyword, grid):\n",
    "    sorted_keyword_indices = sorted(range(len(keyword)), key=lambda x: keyword[x]) #sort the numbers from 0-len(keyword) based on the alphabetical order of the letters in the keyword\n",
    "    \n",
    "    transposed_grid = []\n",
    "    for row in grid:\n",
    "        transposed_grid.append([row[index] for index in sorted_keyword_indices]) #transpose based on the alphabetical order of the keyword\n",
    "\n",
    "    return transposed_grid"
   ]
  },
  {
   "cell_type": "code",
   "execution_count": 11,
   "id": "1fcb3680-a871-4a6c-958f-edf1ac051a4d",
   "metadata": {},
   "outputs": [],
   "source": [
    "def generate_ciphertext(keyword, grid):\n",
    "    ciphertext = \"\"\n",
    "\n",
    "    for col in range(len(keyword) - 1, -1, -1): #start from the last column\n",
    "        for row in grid: #start from th first row\n",
    "            ciphertext = ciphertext + row[col] #add the columnd from right to left in the ciphertext\n",
    "\n",
    "    return ciphertext"
   ]
  },
  {
   "cell_type": "code",
   "execution_count": 12,
   "id": "accd6f76-eb06-48b2-88b8-4ff6e850aac5",
   "metadata": {},
   "outputs": [],
   "source": [
    "def print_grid(message, grid):    \n",
    "    print(\"\\n\"+message)\n",
    "    for row in grid:\n",
    "        print(row)"
   ]
  },
  {
   "cell_type": "code",
   "execution_count": 13,
   "id": "702481c5-72e6-4fbb-a9f1-51fb4039562c",
   "metadata": {},
   "outputs": [],
   "source": [
    "sys.argv[0] = \"\"\n",
    "sys.argv[1] = \"PASSWORD\" #This is the keyword that you can change to your liking\n",
    "sys.argv[2] = \"FAR OUT IN THE UNCHARTED BACKWATERS\" #This is the plaintext that you can change to your liking"
   ]
  },
  {
   "cell_type": "code",
   "execution_count": 14,
   "id": "460f89ff-f44a-4124-87eb-800744cd4f25",
   "metadata": {},
   "outputs": [
    {
     "name": "stdout",
     "output_type": "stream",
     "text": [
      "\n",
      "-------------------------Reverse columnar transposition encryption-------------------------\n",
      "Keyword: PASSWORD\n",
      "Plaintext: FAR OUT IN THE UNCHARTED BACKWATERS\n",
      "\n",
      "Original\n",
      "['P', 'A', 'S', 'S', 'W', 'O', 'R', 'D']\n",
      "['F', 'A', 'R', 'O', 'U', 'T', 'I', 'N']\n",
      "['T', 'H', 'E', 'U', 'N', 'C', 'H', 'A']\n",
      "['R', 'T', 'E', 'D', 'B', 'A', 'C', 'K']\n",
      "['W', 'A', 'T', 'E', 'R', 'S', '#', '#']\n",
      "\n",
      "Transposed\n",
      "['A', 'D', 'O', 'P', 'R', 'S', 'S', 'W']\n",
      "['A', 'N', 'T', 'F', 'I', 'R', 'O', 'U']\n",
      "['H', 'A', 'C', 'T', 'H', 'E', 'U', 'N']\n",
      "['T', 'K', 'A', 'R', 'C', 'E', 'D', 'B']\n",
      "['A', '#', 'S', 'W', '#', 'T', 'E', 'R']\n",
      "\n",
      "Ciphertext: UNBROUDEREETIHC#FTRWTCASNAK#AHTA\n"
     ]
    }
   ],
   "source": [
    "def main(argv):\n",
    "    keyword =  argv[0]\n",
    "    plaintext = argv[1]\n",
    "\n",
    "    print(\"\\n-------------------------Reverse columnar transposition encryption-------------------------\")\n",
    "    print(\"Keyword: \" + keyword)\n",
    "    print(\"Plaintext: \" + plaintext)\n",
    "\n",
    "    keyword = keyword.upper() #capitalize all letters\n",
    "    keyword = keyword.replace(\" \",\"\") #ignore whitespaces\n",
    "    plaintext = plaintext.upper() #capitalize all letters\n",
    "    plaintext = plaintext.replace(\" \",\"\") #ignore whitespaces\n",
    "\n",
    "    grid = arrange_in_rows(keyword, plaintext) #arrange keyword and plaintext in rows row-wise in a grid\n",
    "    print_grid(\"Original\",grid) \n",
    "    \n",
    "    transposed_grid = columnar_transposition(keyword, grid) #transpose the plaintext based on the keyword\n",
    "    print_grid(\"Transposed\", transposed_grid)\n",
    "    \n",
    "    transposed_grid.pop(0) #remove the keyword from the transposed grid to generate ciphertext\n",
    "    ciphertext = generate_ciphertext(keyword, transposed_grid) #generate ciphertext from transposed grid by combining all columns from right to left\n",
    "    print(\"\\nCiphertext: \"+ ciphertext)\n",
    "\n",
    "if __name__ == \"__main__\":\n",
    "    main(sys.argv[1:]) #excecute main when file runs as a script, only get keyword and plaintext input"
   ]
  },
  {
   "cell_type": "markdown",
   "id": "a3f7fa83-45ef-446c-9825-cfb48f799726",
   "metadata": {},
   "source": [
    "\n",
    "\n",
    "\n",
    "\n",
    "\n",
    "\n",
    "\n",
    "<H2>Decryption Code:</H2>"
   ]
  },
  {
   "cell_type": "code",
   "execution_count": 15,
   "id": "6e7d949b-fd0e-4371-a694-51d1e5b26fc0",
   "metadata": {},
   "outputs": [],
   "source": [
    "import sys"
   ]
  },
  {
   "cell_type": "code",
   "execution_count": 16,
   "id": "a9f35679-95dd-44ca-a9eb-e93af0ef969d",
   "metadata": {},
   "outputs": [],
   "source": [
    "def generate_transposed_grid(keyword, ciphertext):\n",
    "    cols = len(keyword)\n",
    "    rows = int(len(ciphertext) / cols)\n",
    "\n",
    "    transposed_grid = []\n",
    "    for x in range(rows):\n",
    "        transposed_grid.append([ \"#\" for x in range(cols)])\n",
    "   \n",
    "    index = 0\n",
    "    for char in ciphertext:\n",
    "        transposed_grid[int(index % rows)][cols -1 - int(index / rows)] = char #insert each char from the ciphertext starting from the right column to the left column\n",
    "        index = index + 1\n",
    "\n",
    "    transposed_grid.insert(0,sorted(keyword)) #add alphabetically sorted keyword to the grid\n",
    "    return transposed_grid\n"
   ]
  },
  {
   "cell_type": "code",
   "execution_count": 17,
   "id": "da0559b1-f961-4dd0-8f98-3eb3476b6b87",
   "metadata": {},
   "outputs": [],
   "source": [
    "def columnar_transposition(keyword, transposed_grid):\n",
    "    keyword_indices = sorted(range(len(keyword)), key=lambda x: keyword[x]) #find the order with which the original grid was transposed\n",
    "    keyword_indices = sorted(range(len(keyword)), key=lambda x: keyword_indices[x]) #based on the original transposition order \n",
    "    #sort a list of number from 0 to len(keyword) and if that order is applied on the transposed grid it returns the original grid \n",
    "    \n",
    "    original_grid = []\n",
    "    for row in transposed_grid: #add the chars on the grid based on the sorted list of numbers\n",
    "        original_grid.append([row[index] for index in keyword_indices])\n",
    "\n",
    "    return original_grid"
   ]
  },
  {
   "cell_type": "code",
   "execution_count": 18,
   "id": "78a5b4b7-c062-4b26-ba0a-ad889d9fcf2a",
   "metadata": {},
   "outputs": [],
   "source": [
    "def generate_plaintext(rows, original_grid):\n",
    "    plaintext = \"\"\n",
    "    for row in range(1,rows+1,1): #dont include the keyword in the plaintext\n",
    "        plaintext = plaintext + \"\".join(original_grid[row]) #join all the rows except the one with the keyword together to create the plaintext\n",
    "\n",
    "    return plaintext"
   ]
  },
  {
   "cell_type": "code",
   "execution_count": 19,
   "id": "fc97e4ed-312e-4f36-b664-c34f9bb58a5a",
   "metadata": {},
   "outputs": [],
   "source": [
    "def print_grid(message, grid):\n",
    "    print(\"\\n\"+message)\n",
    "    for row in grid:\n",
    "        print(row)"
   ]
  },
  {
   "cell_type": "code",
   "execution_count": 20,
   "id": "ebab74c4-77dd-4f8b-acbb-8bbf5ac00e12",
   "metadata": {},
   "outputs": [],
   "source": [
    "sys.argv[0] = \"\"\n",
    "sys.argv[1] = \"PASSWORD\" #This is the keyword that you can change to your liking\n",
    "sys.argv[2] = \"UNBROUDEREETIHC#FTRWTCASNAK#AHTA\" #This is the cipheretext that you can change to your liking"
   ]
  },
  {
   "cell_type": "code",
   "execution_count": 21,
   "id": "4fa81966-dc9a-4311-99d2-8c72cead687f",
   "metadata": {},
   "outputs": [
    {
     "name": "stdout",
     "output_type": "stream",
     "text": [
      "\n",
      "-------------------------Reverse columnar transposition decryption-------------------------\n",
      "Keyword: PASSWORD\n",
      "Ciphertext: UNBROUDEREETIHC#FTRWTCASNAK#AHTA\n",
      "\n",
      "Transposed\n",
      "['A', 'D', 'O', 'P', 'R', 'S', 'S', 'W']\n",
      "['A', 'N', 'T', 'F', 'I', 'R', 'O', 'U']\n",
      "['H', 'A', 'C', 'T', 'H', 'E', 'U', 'N']\n",
      "['T', 'K', 'A', 'R', 'C', 'E', 'D', 'B']\n",
      "['A', '#', 'S', 'W', '#', 'T', 'E', 'R']\n",
      "\n",
      "Original\n",
      "['P', 'A', 'S', 'S', 'W', 'O', 'R', 'D']\n",
      "['F', 'A', 'R', 'O', 'U', 'T', 'I', 'N']\n",
      "['T', 'H', 'E', 'U', 'N', 'C', 'H', 'A']\n",
      "['R', 'T', 'E', 'D', 'B', 'A', 'C', 'K']\n",
      "['W', 'A', 'T', 'E', 'R', 'S', '#', '#']\n",
      "\n",
      "Plaintext: FAROUTINTHEUNCHARTEDBACKWATERS##\n"
     ]
    }
   ],
   "source": [
    "def main(argv):\n",
    "    keyword =  argv[0]\n",
    "    ciphertext = argv[1]\n",
    "\n",
    "    print(\"\\n-------------------------Reverse columnar transposition decryption-------------------------\")\n",
    "    print(\"Keyword: \" + keyword)\n",
    "    print(\"Ciphertext: \" + ciphertext)\n",
    "\n",
    "    keyword = keyword.upper() #capitalize all letters\n",
    "    keyword = keyword.replace(\" \",\"\") #ignore whitespaces\n",
    "    ciphertext = ciphertext.upper() #capitalize all letters\n",
    "    ciphertext = ciphertext.replace(\" \",\"\") #ignore whitespaces\n",
    "\n",
    "    transposed_grid = generate_transposed_grid(keyword, ciphertext) #generate the grid that the ciphertext got computed from\n",
    "    print_grid(\"Transposed\", transposed_grid)\n",
    "\n",
    "    original_grid = columnar_transposition(keyword, transposed_grid) #do the reverse transposition to the grid based on how the keyword original order\n",
    "    print_grid(\"Original\",original_grid)\n",
    "\n",
    "    rows = int(len(ciphertext) / len(keyword)) #number of rows in transposed grid\n",
    "    plaintext = generate_plaintext(rows, original_grid) #generate the plaintext from the original grid\n",
    "    print(\"\\nPlaintext: \"+plaintext)\n",
    "\n",
    "if __name__ == \"__main__\":\n",
    "    main(sys.argv[1:]) #excecute main when file runs as a script, only get keyword and plaintext input"
   ]
  },
  {
   "cell_type": "code",
   "execution_count": null,
   "id": "c1be7bfa-e44b-4c09-9163-208b76208da0",
   "metadata": {},
   "outputs": [],
   "source": []
  }
 ],
 "metadata": {
  "kernelspec": {
   "display_name": "Python 3 (ipykernel)",
   "language": "python",
   "name": "python3"
  },
  "language_info": {
   "codemirror_mode": {
    "name": "ipython",
    "version": 3
   },
   "file_extension": ".py",
   "mimetype": "text/x-python",
   "name": "python",
   "nbconvert_exporter": "python",
   "pygments_lexer": "ipython3",
   "version": "3.10.12"
  }
 },
 "nbformat": 4,
 "nbformat_minor": 5
}
