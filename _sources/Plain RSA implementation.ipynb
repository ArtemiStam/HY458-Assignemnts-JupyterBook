{
 "cells": [
  {
   "cell_type": "markdown",
   "metadata": {},
   "source": [
    "# Plain RSA implementation"
   ]
  },
  {
   "cell_type": "markdown",
   "metadata": {},
   "source": [
    "Create a Python program that will be able to encrypt and decrypt the contents of any given file using your own RSA implementation of the encrypt and decrypt functions without padding,based on gmpy2.powmod, as shown below.\n",
    "\n",
    "Encryption:\n",
    "1. Convert the plaintext to integers.\n",
    "2. c = pe mod n, where e and n are values derived from the public key.\n",
    "\n",
    "Decryption:\n",
    "1. p = cd mod n, where d and n are values derived from the private key.\n",
    "2. Convert the integers back to the plaintext.\n",
    "\n",
    "The public and private keys to be used can be given as input by the user or if any input regarding the public and private keys is missing, the program should be able to generate them using the function rsa.generate_private_key from the cryptography library and save them in the files public_key.pem and private_key.pem respectively.\n",
    "\n",
    "Your program should support the following arguments:\n",
    "\n",
    "● -e plaintext message file: Encrypt file contents\n",
    "\n",
    "● -d encrypted message file: Decrypt file contents\n",
    "\n",
    "● -pub public key file: File containing the public key\n",
    "\n",
    "● -prv private key file: File containing the private key\n",
    "\n",
    "● -o output file: Output file, if both encryption and decryption are specified, this file should contain both outputs. If no output file is specified the program should print on the console.\n"
   ]
  },
  {
   "cell_type": "code",
   "execution_count": null,
   "metadata": {},
   "outputs": [],
   "source": [
    "import argparse\n",
    "import sys\n",
    "import gmpy2\n",
    "from cryptography.hazmat.primitives import serialization\n",
    "from cryptography.hazmat.primitives.serialization import load_pem_private_key, load_pem_public_key\n",
    "from cryptography.hazmat.primitives.asymmetric.rsa import generate_private_key\n",
    "\n",
    "from cryptography.hazmat.backends import default_backend"
   ]
  },
  {
   "cell_type": "code",
   "execution_count": null,
   "metadata": {},
   "outputs": [],
   "source": [
    "def bytes_to_int(text: bytes):\n",
    "    return int.from_bytes(text, 'big')\n",
    "\n",
    "\n",
    "def int_to_bytes(num):\n",
    "    num_int = int(num)\n",
    "    return int.to_bytes(num_int, (num_int.bit_length()+7)//8, \"big\")\n",
    "\n",
    "\n",
    "def encrypt(plain: bytes, e: int, n: int, block_size: int | None = None):\n",
    "    if block_size is None:\n",
    "        block_size = (n.bit_length()+7)//8\n",
    "\n",
    "    blocks = [bytes_to_int(plain[i:i+block_size])\n",
    "              for i in range(0, len(plain), block_size)]\n",
    "\n",
    "    return b\"\".join([int_to_bytes(gmpy2.powmod(block, e, n)) for block in blocks])\n",
    "\n",
    "\n",
    "def decrypt(cipher: bytes, d: int, n: int, block_size: int | None = None):\n",
    "    if block_size is None:\n",
    "        block_size = (n.bit_length()+7)//8\n",
    "\n",
    "    blocks = [bytes_to_int(cipher[i:i+block_size])\n",
    "              for i in range(0, len(cipher), block_size)]\n",
    "\n",
    "    return b\"\".join([int_to_bytes(gmpy2.powmod(block, d, n)) for block in blocks])\n"
   ]
  },
  {
   "cell_type": "code",
   "execution_count": null,
   "metadata": {},
   "outputs": [],
   "source": [
    "def main(arguments):\n",
    "    parser = argparse.ArgumentParser(\n",
    "        formatter_class=argparse.RawDescriptionHelpFormatter)\n",
    "    parser.add_argument(\n",
    "        \"-e\", \"--encrypt\", help=\"Msg to be encrypted\", type=str)\n",
    "    parser.add_argument(\n",
    "        \"-d\", \"--decrypt\", help=\"Msg to be decrypted\", type=str)\n",
    "    parser.add_argument(\n",
    "        \"-pub\", \"--public-key\", help=\"File containing the public key\", type=argparse.FileType('r'))\n",
    "    parser.add_argument(\n",
    "        \"-prv\", \"--private-key\", help=\"File containing the private key\", type=argparse.FileType('r'))\n",
    "    parser.add_argument(\n",
    "        \"-o\", \"--output\", help=\"The output file\", type=argparse.FileType('w'))\n",
    "\n",
    "    args = parser.parse_args(arguments)\n",
    "\n",
    "    if args.encrypt:\n",
    "        if args.public_key:\n",
    "            public_key = load_pem_public_key(\n",
    "                args.public_key.read().encode())\n",
    "        else:\n",
    "            priv_key = generate_private_key(0x10001, 2048)\n",
    "            with open(\"private_key.pem\", \"w\") as priv_key_file:\n",
    "                priv_key_file.write(priv_key.private_bytes(encoding=serialization.Encoding.PEM,\n",
    "                                    format=serialization.PrivateFormat.PKCS8, encryption_algorithm=serialization.NoEncryption()).decode())\n",
    "\n",
    "            public_key = priv_key.public_key()\n",
    "            with open(\"public_key.pem\", \"w\") as pub_key_file:\n",
    "                pub_key_file.write(public_key.public_bytes(\n",
    "                    encoding=serialization.Encoding.PEM, format=serialization.PublicFormat.SubjectPublicKeyInfo).decode())\n",
    "\n",
    "        numbers = public_key.public_numbers()\n",
    "        encrypted = encrypt(args.encrypt.encode(), numbers.e, numbers.n)\n",
    "\n",
    "        if args.output:\n",
    "            args.output.write(encrypted.hex())\n",
    "        print(encrypted.hex())\n",
    "\n",
    "    if args.decrypt:\n",
    "        if args.private_key:\n",
    "            private_key = load_pem_private_key(\n",
    "                args.private_key.read().encode(), password=None)\n",
    "        else:\n",
    "            private_key = generate_private_key(0x10001, 2048)\n",
    "            with open(\"private_key.pem\", \"w\") as priv_key_file:\n",
    "                priv_key_file.write(private_key.private_bytes(encoding=serialization.Encoding.PEM,\n",
    "                                    format=serialization.PrivateFormat.PKCS8, encryption_algorithm=serialization.NoEncryption()).decode())\n",
    "\n",
    "            public_key = private_key.public_key()\n",
    "            with open(\"public_key.pem\", \"w\") as pub_key_file:\n",
    "                pub_key_file.write(public_key.public_bytes(\n",
    "                    encoding=serialization.Encoding.PEM, format=serialization.PublicFormat.SubjectPublicKeyInfo).decode())\n",
    "\n",
    "        decrypted = decrypt(bytes.fromhex(args.decrypt),\n",
    "                            private_key.private_numbers().d,\n",
    "                            private_key.public_key().public_numbers().n)\n",
    "\n",
    "        if args.output:\n",
    "            args.output.write(decrypted.decode())\n",
    "        \n",
    "        print(decrypted.decode())\n",
    "\n"
   ]
  },
  {
   "cell_type": "code",
   "execution_count": null,
   "metadata": {},
   "outputs": [],
   "source": [
    "\n",
    "\n",
    "sys.argv = [\n",
    "    \"\", \n",
    "    \"-e\", \"prime\",\n",
    "    \"-pub\", \"InputFiles/RSA_powmod_without_padding/public_key.pem\",\n",
    "    \"-prv\", \"InputFiles/RSA_powmod_without_padding/private_key.pem\",\n",
    "    \"-o\" , \"OutputFiles/q1.txt\"\n",
    "]\n",
    "main(sys.argv[1:])"
   ]
  },
  {
   "cell_type": "code",
   "execution_count": null,
   "metadata": {},
   "outputs": [],
   "source": [
    "\n",
    "with open(\"InputFiles/RSA_powmod_without_padding/private_key.pem\", \"r\") as priv_key_file:\n",
    "    print(priv_key_file.read())\n"
   ]
  },
  {
   "cell_type": "code",
   "execution_count": null,
   "metadata": {},
   "outputs": [],
   "source": [
    "with open(\"InputFiles/RSA_powmod_without_padding/public_key.pem\", \"r\") as pu_key_file:\n",
    "    print(pu_key_file.read())"
   ]
  }
 ],
 "metadata": {
  "kernelspec": {
   "display_name": "Python 3",
   "language": "python",
   "name": "python3"
  },
  "language_info": {
   "codemirror_mode": {
    "name": "ipython",
    "version": 3
   },
   "file_extension": ".py",
   "mimetype": "text/x-python",
   "name": "python",
   "nbconvert_exporter": "python",
   "pygments_lexer": "ipython3",
   "version": "3.12.3"
  }
 },
 "nbformat": 4,
 "nbformat_minor": 2
}
