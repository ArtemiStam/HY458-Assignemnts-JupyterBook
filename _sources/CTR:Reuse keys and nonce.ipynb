{
 "cells": [
  {
   "cell_type": "markdown",
   "metadata": {},
   "source": [
    "# CTR: Reuse key and nonce"
   ]
  },
  {
   "cell_type": "markdown",
   "metadata": {},
   "source": [
    "Create a Python program that takes as inputs two ciphertexts, encrypted with the same key, IV combination using AES-256-CTR and the plaintext for one of those ciphertexts.\n",
    "Your program should be able to find and print on the console all or part of the other plaintext, using the two ciphertexts and the known plaintext for one of those ciphertexts.\n",
    "\n",
    "Your program should support the following arguments:\n",
    "\n",
    "    ● -ca ciphertext file: Ciphertext file A\n",
    "    ● -cb ciphertext file: Ciphertext file B\n",
    "    ● -pa plaintext file: Plaintext file containing the decrypted content of ciphertext file A"
   ]
  },
  {
   "cell_type": "code",
   "execution_count": null,
   "metadata": {},
   "outputs": [],
   "source": [
    "import argparse\n",
    "import sys"
   ]
  },
  {
   "cell_type": "code",
   "execution_count": null,
   "metadata": {},
   "outputs": [],
   "source": [
    "def xor(a: bytes, b: bytes):\n",
    "    return bytes([char_a ^ char_b for char_a, char_b in zip(a, b)])\n",
    "\n",
    "\n",
    "def cryptanalysis(pa: str, ca: str, cb: str):\n",
    "    pa_blocks = [pa[i:i+16].encode() for i in range(0, len(pa), 16)]\n",
    "    ca_blocks = [bytes.fromhex(ca[i:i+32]) for i in range(0, len(ca), 32)]\n",
    "    cb_blocks = [bytes.fromhex(cb[i:i+32]) for i in range(0, len(cb), 32)]\n",
    "\n",
    "    generated_keys = [xor(a_block, b_block)\n",
    "                      for a_block, b_block in zip(pa_blocks, ca_blocks)]\n",
    "\n",
    "    return \"\".join([xor(cb_block, key).decode() for cb_block, key in zip(cb_blocks, generated_keys)])\n",
    "\n",
    "\n",
    "def main(arguments):\n",
    "    parser = argparse.ArgumentParser(\n",
    "        formatter_class=argparse.RawDescriptionHelpFormatter)\n",
    "    parser.add_argument(\n",
    "        \"-ca\", help=\"Ciphertext file A\", type=argparse.FileType('r'), required=True)\n",
    "    parser.add_argument(\n",
    "        \"-cb\", help=\"Ciphertext file B\", type=argparse.FileType('r'), required=True)\n",
    "    parser.add_argument(\n",
    "        \"-pa\", help=\"Plaintext file A\", type=argparse.FileType('r'), required=True)\n",
    "\n",
    "    args = parser.parse_args(arguments)\n",
    "\n",
    "    ca = args.ca.read()\n",
    "    pa = args.pa.read()\n",
    "    cb = args.cb.read()\n",
    "\n",
    "    pb = cryptanalysis(pa, ca, cb)\n",
    "    print(pb)\n"
   ]
  },
  {
   "cell_type": "code",
   "execution_count": null,
   "metadata": {},
   "outputs": [],
   "source": [
    "sys.argv = [\"\", \"-ca\",  \"InputFiles/Q5/ciphertext_a.txt\",\n",
    "            \"-cb\", \"InputFiles/Q5/ciphertext_b.txt\",\n",
    "            \"-pa\", \"InputFiles/Q5/plaintext_a.txt\"\n",
    "        ]\n",
    "main(sys.argv[1:])"
   ]
  }
 ],
 "metadata": {
  "kernelspec": {
   "display_name": "Python 3",
   "language": "python",
   "name": "python3"
  },
  "language_info": {
   "name": "python",
   "version": "3.12.3"
  }
 },
 "nbformat": 4,
 "nbformat_minor": 2
}
