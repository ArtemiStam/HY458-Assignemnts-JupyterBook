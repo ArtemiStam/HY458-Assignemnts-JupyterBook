{
 "cells": [
  {
   "cell_type": "markdown",
   "metadata": {
    "editable": true,
    "slideshow": {
     "slide_type": ""
    },
    "tags": []
   },
   "source": [
    "# Vigenère Cipher\n",
    "## Classic Crypto (FALL 2022-2023)"
   ]
  },
  {
   "cell_type": "markdown",
   "metadata": {
    "editable": true,
    "slideshow": {
     "slide_type": ""
    },
    "tags": []
   },
   "source": [
    "<h2>2. Vigenère’s  cipher</h2>\n",
    "Create a Python program that encrypts/decrypts messages using Vigenère’s cipher and is able\n",
    "to perform cryptanalysis against Vigenère’s cipher for a given ciphertext."
   ]
  },
  {
   "cell_type": "markdown",
   "metadata": {
    "editable": true,
    "slideshow": {
     "slide_type": ""
    },
    "tags": []
   },
   "source": [
    "<h3>2.1: Encryption & Decryption</h3>\n",
    "\n",
    "* For the encryption and decryption functions one must take into account the following:\n",
    "    * The keyword must be configurable through the command line\n",
    "    * The plaintext/ciphertext should be provided as an input text file\n",
    "    * Before encryption, convert all plaintext and keyword characters to uppercase\n",
    "    * No substitution for non english alphabetic characters\n",
    "    * Before encryption, remove spaces from plaintext to make it less easy to figure out words in ciphertext\n",
    "    * Error control:\n",
    "        * The keyword must use only alpha characters\n",
    "        * The keyword size should be between 2 and 8\n",
    "        * Binary files are not supported\n",
    "    * The table of alphabets used is the Vigenère table shown below \n",
    "\n",
    "\n",
    "\n",
    "\n",
    "\n",
    "\n",
    "\n",
    "    \n",
    "    ![Alt text](./vigenere.png)"
   ]
  },
  {
   "cell_type": "markdown",
   "metadata": {
    "editable": true,
    "slideshow": {
     "slide_type": ""
    },
    "tags": []
   },
   "source": [
    "<h3>2.2: Cryptanalysis</h3>\n",
    "\n",
    "Create two functions to decrypt various messages using two different methods to determine the length of the key used during the encryption process:\n",
    "\n",
    "1. The Kasiski examination\n",
    "2. The index of coincidence\n",
    "\n",
    "For the Kasiski test, try automating this:\n",
    "1. Find all repeated strings in cipher text of length at least 3 (you can drop all strings smaller than the longest strings that you found)\n",
    "2. Compute distances between them \n",
    "3. The intersection of the factors of the distances are the possible key lengths (you can assume that the length of the key is between 2 and 8)\n",
    "4. Use the frequency of occurrence of letters to guess the key length \n",
    "\n",
    "For calculating the index of coincidence, try automating this:\n",
    "1. Write the ciphertext into rows of a matrix with as many columns as an assumed key length (between 2 and 8)\n",
    "2. Compute the average index of coincidence with each column considered separately.\n",
    "3. For each possible key length, the highest average index of coincidence then corresponds to the most-likely key length.\n",
    "\n",
    "\n",
    "Once the length of the key is known, the ciphertext can be rewritten into that many columns, with\n",
    "each column corresponding to a single letter of the key. Using methods similar to those used to\n",
    "break the Caesar cipher (using a dictionary), the letters in the ciphertext can be discovered.\n",
    "Bonus: A 5% bonus will be given for the fastest cryptanalysis function (total execution time) for\n",
    "Vigenère’s cipher."
   ]
  },
  {
   "cell_type": "code",
   "execution_count": 1,
   "metadata": {
    "editable": true,
    "slideshow": {
     "slide_type": ""
    },
    "tags": []
   },
   "outputs": [],
   "source": [
    "import sys\n",
    "import argparse\n",
    "import re\n",
    "import math\n"
   ]
  },
  {
   "cell_type": "code",
   "execution_count": 2,
   "metadata": {
    "editable": true,
    "slideshow": {
     "slide_type": ""
    },
    "tags": []
   },
   "outputs": [],
   "source": [
    "\n",
    "\n",
    "def encrypt(text: str, keyword: str):\n",
    "    vigenere_map = {(chr(p+ord('A')), chr(k+ord('A'))): chr(ord('A')+(p+k) % 26)\n",
    "                    for p in range(26) for k in range(26)}\n",
    "\n",
    "    if not (2 <= len(keyword) <= 8):\n",
    "        print(\"The keyword size must be 2 and 8\")\n",
    "        exit(1)\n",
    "\n",
    "    keyword = keyword.upper()\n",
    "\n",
    "    if re.search(r'[^A-Z]', keyword):\n",
    "        print(\"The keyword must use only alpha characters\")\n",
    "        exit(1)\n",
    "\n",
    "    text = re.sub(r'\\s', '', text).upper()\n",
    "\n",
    "    keyword_len = len(keyword)\n",
    "\n",
    "    return \"\".join([vigenere_map.get((p, keyword[i % keyword_len]), p) for i, p in enumerate(text)])\n",
    "\n",
    "\n",
    "def decrypt(text: str, keyword: str):\n",
    "    vigenere_map = {(chr(p+ord('A')), chr(k+ord('A'))): chr(ord('A')+(p-k) % 26)\n",
    "                    for p in range(26) for k in range(26)}\n",
    "\n",
    "    if not (2 <= len(keyword) <= 8):\n",
    "        print(\"The keyword size must be 2 and 8\")\n",
    "        exit(1)\n",
    "\n",
    "    keyword = keyword.upper()\n",
    "\n",
    "    if re.search(r'[^A-Z]', keyword):\n",
    "        print(\"The keyword must use only alpha characters\")\n",
    "        exit(1)\n",
    "\n",
    "    text = re.sub(r'\\s', '', text).upper()\n",
    "\n",
    "    keyword_len = len(keyword)\n",
    "\n",
    "    return \"\".join([vigenere_map.get((p, keyword[i % keyword_len]), p) for i, p in enumerate(text)])\n",
    "\n",
    "\n",
    "def main(arguments):\n",
    "\n",
    "    parser = argparse.ArgumentParser(\n",
    "        formatter_class=argparse.RawDescriptionHelpFormatter)\n",
    "    parser.add_argument(\"-e\", \"--encrypt\",\n",
    "                        help=\"Encrypt text file\", type=str)\n",
    "    parser.add_argument(\n",
    "        \"-d\", \"--decrypt\", help=\"Decrypt ciphertext file\", type=str)\n",
    "    parser.add_argument(\n",
    "        \"-k\", \"--keyword\", help=\"Keyword used for encryption/decryption\", default=\"keyword\")\n",
    "    parser.add_argument(\"-c\", \"--cryptanalysis\",\n",
    "                        help=\"Perform cryptanalysis on the given ciphertext\", type=str)\n",
    "    parser.add_argument(\n",
    "        \"-m\", \"--method\", help=\"What method should be used for finding the length of the key\", default=\"KASISKI\")\n",
    "\n",
    "    args = parser.parse_args(arguments)\n",
    "\n",
    "    if args.encrypt:\n",
    "        keyword = args.keyword\n",
    "        #file_content = args.encrypt.read()\n",
    "        # Replace this comment and the following statement with your code\n",
    "        encrypted_text = encrypt(args.encrypt, keyword)\n",
    "        print(encrypted_text)\n",
    "    if args.decrypt:\n",
    "        keyword = args.keyword\n",
    "        #file_content = args.decrypt.read()\n",
    "        # Replace this comment and the following statement with your code\n",
    "        decrypted_text = decrypt(args.decrypt, keyword)\n",
    "        print(decrypted_text)\n",
    "    if args.cryptanalysis:\n",
    "        #file_content = args.cryptanalysis.read()\n",
    "        if args.method == \"IOC\":\n",
    "            # Replace this comment and the following statement with your code\n",
    "            decrypted_text = \"UNIMPLEMENTED-IOC\"\n",
    "        else:\n",
    "            # Replace this comment and the following statement with your code\n",
    "            decrypted_text = \"UNIMPLEMENTED-KASISKI\"\n",
    "        print(decrypted_text)\n",
    "\n"
   ]
  },
  {
   "cell_type": "code",
   "execution_count": 3,
   "metadata": {
    "editable": true,
    "slideshow": {
     "slide_type": ""
    },
    "tags": []
   },
   "outputs": [
    {
     "name": "stdout",
     "output_type": "stream",
     "text": [
      "OFPTZSPVPPEZA,AGRDVFEGTDJPGHTPQLRRHBUKPJVHKEEPGRCEYARNKEEEKCVFADEGVYYIIFGMCCMHJZPSIOTKGTLCTKFTIIDCGRYFQDPTTRKEEEKWXRRTFSUJYVXG.DMSXFPTPNIHQXPPIVAVVXLHURRIASKERTKGGTRXHBQWRWXRKJAXIZKECHHTORRWXACKGRL,EFKENHGIQRBSPTC,BBHFPBTHKFLHXQWIGIR,GCCRMFKTYAXBIZLTXFKEE,WWIZRPEGKXLPEDTFATLGKEE,IVAJGRL,CEBDMVGIQ.\n",
      "MOREGENERALLY,CRYPTOGRAPHYISABOUTCONSTRUCTINGANDANALYZINGPROTOCOLSTHATPREVENTTHIRDPARTIESORTHEPUBLICFROMREADINGPRIVATEMESSAGES.MODERNCRYPTOGRAPHYEXISTSATTHEINTERSECTIONOFTHEDISCIPLINESOFMATHEMATICS,COMPUTERSCIENCE,INFORMATIONSECURITY,ELECTRICALENGINEERING,DIGITALSIGNALPROCESSING,PHYSICS,ANDOTHERS.\n",
      "UNIMPLEMENTED-KASISKI\n"
     ]
    }
   ],
   "source": [
    "\n",
    "plaintext_path = \"test_files/vigenere/plaintext.txt\"\n",
    "\n",
    "sys.argv = [\"\",\n",
    "            \"-e\", \"More generally, cryptography is about constructing and analyzing protocols that prevent third parties or the public from reading private messages. Modern cryptography exists at the intersection of the disciplines of mathematics, computer science, information security, electrical engineering, digital signal processing, physics, and others.\",\n",
    "            \"-d\", \"OFPTZSPVPPEZA,AGRDVFEGTDJPGHTPQLRRHBUKPJVHKEEPGRCEYARNKEEEKCVFADEGVYYIIFGMCCMHJZPSIOTKGTLCTKFTIIDCGRYFQDPTTRKEEEKWXRRTFSUJYVXG.DMSXFPTPNIHQXPPIVAVVXLHURRIASKERTKGGTRXHBQWRWXRKJAXIZKECHHTORRWXACKGRL,EFKENHGIQRBSPTC,BBHFPBTHKFLHXQWIGIR,GCCRMFKTYAXBIZLTXFKEE,WWIZRPEGKXLPEDTFATLGKEE,IVAJGRL,CEBDMVGIQ.\",\n",
    "            \"-k\", \"crypto\",\n",
    "            \"-c\", \"OFPTZSPVPPEZA,AGRDVFEGTDJPGHTPQLRRHBUKPJVHKEEPGRCEYARNKEEEKCVFADEGVYYIIFGMCCMHJZPSIOTKGTLCTKFTIIDCGRYFQDPTTRKEEEKWXRRTFSUJYVXG.DMSXFPTPNIHQXPPIVAVVXLHURRIASKERTKGGTRXHBQWRWXRKJAXIZKECHHTORRWXACKGRL,EFKENHGIQRBSPTC,BBHFPBTHKFLHXQWIGIR,GCCRMFKTYAXBIZLTXFKEE,WWIZRPEGKXLPEDTFATLGKEE,IVAJGRL,CEBDMVGIQ.\",\n",
    "            \"-m\" ,\"KASISKI\"\n",
    "            ]\n",
    "\n",
    "\n",
    "main(sys.argv[1:])\n",
    "\n"
   ]
  },
  {
   "cell_type": "code",
   "execution_count": null,
   "metadata": {},
   "outputs": [],
   "source": []
  }
 ],
 "metadata": {
  "kernelspec": {
   "display_name": "Python 3 (ipykernel)",
   "language": "python",
   "name": "python3"
  },
  "language_info": {
   "codemirror_mode": {
    "name": "ipython",
    "version": 3
   },
   "file_extension": ".py",
   "mimetype": "text/x-python",
   "name": "python",
   "nbconvert_exporter": "python",
   "pygments_lexer": "ipython3",
   "version": "3.10.12"
  }
 },
 "nbformat": 4,
 "nbformat_minor": 4
}
