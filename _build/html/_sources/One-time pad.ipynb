{
 "cells": [
  {
   "cell_type": "markdown",
   "metadata": {
    "editable": true,
    "slideshow": {
     "slide_type": ""
    },
    "tags": []
   },
   "source": [
    "# One-time pad\n",
    "## Classic Crypto"
   ]
  },
  {
   "cell_type": "markdown",
   "metadata": {
    "editable": true,
    "slideshow": {
     "slide_type": ""
    },
    "tags": []
   },
   "source": [
    "<H2>Introduction</H2>\n",
    "\n",
    "\n",
    "In this assignment you are going to implement from scratch, encryption, decryption and\n",
    "cryptanalysis algorithms using Python. \n",
    "The main purpose of this assignment is to offer you the opportunity to get famiddar with the\n",
    "implementation and internals of such simple ciphers, help you understand how they work and\n",
    "find techniques for defeating them."
   ]
  },
  {
   "cell_type": "markdown",
   "metadata": {
    "editable": true,
    "slideshow": {
     "slide_type": ""
    },
    "tags": []
   },
   "source": [
    "<H2>Setup</H2>\n",
    "\n",
    "For this and future assignments you will use Python 3 with ddnux, Windows or a Unix based\n",
    "machine. We will walk you through instalddng Python 3 in Ubuntu ddnux in this section.\n",
    "Installation will be sddghtly different for other versions of ddnux or Unix and may be considerably\n",
    "different for Windows.\n",
    "If you do not want to mess around with your system Python environment, we suggest creating a\n",
    "Python virtual environment using the venv module. This will configure a selected directory with a\n",
    "Python interpreter and associated modules. Any modules you install are only locally installed.\n",
    "\n",
    "First, we need to install Python 3, Pip, and the venv module:\n",
    "\n",
    "<font color='orange'>&emsp;sudo apt install python3 python3-venv python3-pip</font>\n",
    "\n",
    "Next, we create a project directory:\n",
    "\n",
    "<font color='orange'>  &emsp;mkdir hy458</font>\n",
    "\n",
    "<font color='orange'>   &emsp;cd hy458</font>\n",
    "\n",
    "Next, we use venv to set up the environment in an env directory:\n",
    "\n",
    "<font color='orange'>   &emsp;python3 -m venv env</font>\n",
    "\n",
    "This will set up the interpreter and modules within the path. Once the installation is complete,\n",
    "the environment can be used at any time by the following command:\n",
    "\n",
    "<font color='orange'>   &emsp;source env/bin/activate</font>\n",
    "\n",
    "You should now see a prefix to your shell prompt with the name of your environment.\n",
    "When working on the assignments, remember to activate your Python virtual environment first if\n",
    "you don’t want Python modules to be installed system-wide.\n",
    "For each program you are requested to implement, use the provided python script template."
   ]
  },
  {
   "cell_type": "markdown",
   "metadata": {
    "editable": true,
    "slideshow": {
     "slide_type": ""
    },
    "tags": []
   },
   "source": [
    "<h2>3.  One-time pad</h2>\n",
    "Create a Python program that encrypts/decrypts messages using One-time pad."
   ]
  },
  {
   "cell_type": "markdown",
   "metadata": {
    "editable": true,
    "jp-MarkdownHeadingCollapsed": true,
    "slideshow": {
     "slide_type": ""
    },
    "tags": []
   },
   "source": [
    "<h3>3.1: Encryption & Decryption</h3>\n",
    "\n",
    "For the encryption and decryption functions one must take into account the following:\n",
    "* The one-time pad key should be randomly generated or provided by the user (justify your randomness choices)\n",
    "* The plaintext/ciphertexts should be provided as an input text file\n",
    "* All ASCII characters should be supported\n",
    "* No substitution for non ASCII characters\n",
    "* Error control\n",
    "    * The one-time pad key must use only ASCII characters\n",
    "    * Βinary files are not supported"
   ]
  },
  {
   "cell_type": "markdown",
   "metadata": {
    "editable": true,
    "slideshow": {
     "slide_type": ""
    },
    "tags": []
   },
   "source": [
    "<h3>3.2: Cryptanalysis</h3>\n",
    "Create a function which, given a collection of ASCII text files that have been encrypted with the\n",
    "same one-time pad key, should be able to decrypt as accurately as possible a target ciphertext\n",
    "that has been encrypted with the same one-time pad key. You can assume that the length of the\n",
    "content of all the encrypted ciphertexts is the same. Try automating this:\n",
    "1. Iterate over the ciphertexts while XOR-ing each of them with the others\n",
    "2. Identify the places where a space character has been XOR-ed with a letter character\n",
    "3. If a space character has been found in an index more than 75% percent of the time, we\n",
    "assume that index as a possible space character in the ciphertext that is being tested\n",
    "Since space characters XOR-ed with a letter character simply change the case of the letter, by\n",
    "XOR-ing all the texts with each other one can guess most of the characters in the target text.\n",
    "While trying to decrypt the target ciphertext all still to be found characters should be replaced\n",
    "with the asterisk symbol (*)"
   ]
  },
  {
   "cell_type": "code",
   "execution_count": 71,
   "metadata": {
    "editable": true,
    "slideshow": {
     "slide_type": ""
    },
    "tags": []
   },
   "outputs": [],
   "source": [
    "import string\n",
    "import sys\n",
    "import argparse\n",
    "import secrets"
   ]
  },
  {
   "cell_type": "code",
   "execution_count": 72,
   "metadata": {
    "editable": true,
    "slideshow": {
     "slide_type": ""
    },
    "tags": []
   },
   "outputs": [],
   "source": [
    "\n",
    "\n",
    "\n",
    "def otp_xor(plain: bytes, key: bytes):\n",
    "    res = b\"\"\n",
    "\n",
    "    assert (len(plain) <= len(key))\n",
    "\n",
    "    for p, k in zip(plain, key):\n",
    "        if p < 128:\n",
    "            res += bytes([p ^ k])\n",
    "        else:\n",
    "            res += bytes([p])\n",
    "\n",
    "    return res\n",
    "\n",
    "\n",
    "def encrypt(plain: bytes, key: bytes):\n",
    "    # Wrapper just for the naming\n",
    "    return otp_xor(plain, key)\n",
    "\n",
    "\n",
    "def decrypt(plain: bytes, key: bytes):\n",
    "    # Wrapper just for the naming\n",
    "    return otp_xor(plain, key)\n",
    "\n",
    "\n",
    "def cryptanalysis(ciphertexts: list[bytes], target: bytes):\n",
    "    key = bytearray([c ^ ord('*') for c in target])\n",
    "\n",
    "    for cipher1 in ciphertexts:\n",
    "        count = {}\n",
    "        for cipher2 in ciphertexts:\n",
    "            if not (cipher1 is cipher2):\n",
    "                for x_i, chars in enumerate(zip(cipher1, cipher2)):\n",
    "                    if chr(chars[0] ^ chars[1]) in string.ascii_letters:\n",
    "                        count[x_i] = count.get(x_i, 0)+1\n",
    "\n",
    "        for x_i, c in count.items():\n",
    "            if c/len(ciphertexts) >= 0.75:\n",
    "                key[x_i] = cipher1[x_i] ^ ord(' ')\n",
    "\n",
    "    return bytes([t ^ k for t, k in zip(target, key)])\n",
    "\n",
    "    # Perhaps use a dictionary to improve the results of the attack\n",
    "\n",
    "\n",
    "def main(arguments):\n",
    "\n",
    "    parser = argparse.ArgumentParser(\n",
    "        formatter_class=argparse.RawDescriptionHelpFormatter)\n",
    "    parser.add_argument(\"-e\", \"--encrypt\",\n",
    "                        help=\"Encrypt text file\", type=argparse.FileType('rb'))\n",
    "    parser.add_argument(\n",
    "        \"-d\", \"--decrypt\", help=\"Decrypt ciphertext file\", type=argparse.FileType('rb'))\n",
    "    parser.add_argument(\n",
    "        \"-p\", \"--otp\", help=\"One-time pad used for encryption/decryption\", type=argparse.FileType('rb'))\n",
    "    parser.add_argument(\"-c\", \"--cryptanalysis\", nargs=\"+\",\n",
    "                        help=\"Perform cryptanalysis on the given ciphertexts\", type=argparse.FileType('rb'))\n",
    "    parser.add_argument(\n",
    "        \"-t\", \"--target\", help=\"Ciphertext to decrypt using the results from cryptanalysis of the given ciphertexts\", type=argparse.FileType('rb'))\n",
    "\n",
    "    parser.add_argument(\n",
    "        \"-o\", \"--output\", help=\"The file where the result of the encryption/decryption will be written\", type=argparse.FileType('wb'))\n",
    "\n",
    "    args = parser.parse_args(arguments)\n",
    "\n",
    "    if args.encrypt:\n",
    "        file_content: bytes = args.encrypt.read()\n",
    "        if args.otp:\n",
    "            otp: bytes = args.otp.read()\n",
    "            if len(file_content) > len(otp):\n",
    "                print(\"The key must be at least as long as the plaintext\")\n",
    "                exit(1)\n",
    "        else:\n",
    "            otp = bytes([secrets.randbelow(128)\n",
    "                         for _ in range(len(file_content))])\n",
    "            print(\n",
    "                f\"No key selected. Auto-generated key: {otp}\", file=sys.stderr)\n",
    "        # Replace this comment and the following statement with your code\n",
    "        encrypted_text = encrypt(file_content, otp)\n",
    "        if args.output:\n",
    "            args.output.write(encrypted_text)\n",
    "        else:\n",
    "            print(\n",
    "                \"WARNING: -o/--output is suggested with -e/--encrypt. Output to command line is unstable\\n\", file=sys.stderr)\n",
    "\n",
    "            print(encrypted_text.decode())\n",
    "    if args.decrypt:\n",
    "        if args.otp:\n",
    "            otp: bytes = args.otp.read()\n",
    "            file_content: bytes = args.decrypt.read()\n",
    "            # Replace this comment and the following statement with your code\n",
    "\n",
    "            if len(file_content) > len(otp):\n",
    "                print(\"The key must be at least as long as the plaintext\")\n",
    "                exit(1)\n",
    "\n",
    "            decrypted_text = decrypt(file_content, otp)\n",
    "            print(decrypted_text.decode())\n",
    "        else:\n",
    "            parser.error(\"-d/--decrypt requires -p/--otp\")\n",
    "    if args.cryptanalysis:\n",
    "        if args.target:\n",
    "            amount_of_ciphertexts = len(args.cryptanalysis)\n",
    "            ciphertexts = []\n",
    "            target_cipher_text = args.target.read()\n",
    "            for i in range(amount_of_ciphertexts):\n",
    "                ciphertexts.append(args.cryptanalysis[i].read())\n",
    "            # Replace this comment and the following statement with your code\n",
    "            decrypted_text = cryptanalysis(ciphertexts, target_cipher_text)\n",
    "            if args.output:\n",
    "                args.output.write(decrypted_text)\n",
    "            else:\n",
    "                print(decrypted_text.decode())\n",
    "        else:\n",
    "            parser.error(\"-c/--cryptanalysis requires -t/--target\")\n",
    "\n"
   ]
  },
  {
   "cell_type": "code",
   "execution_count": 76,
   "metadata": {
    "editable": true,
    "slideshow": {
     "slide_type": ""
    },
    "tags": []
   },
   "outputs": [
    {
     "name": "stdout",
     "output_type": "stream",
     "text": [
      "The key must be at least as long as the plaintext\n"
     ]
    },
    {
     "ename": "AssertionError",
     "evalue": "",
     "output_type": "error",
     "traceback": [
      "\u001b[0;31m---------------------------------------------------------------------------\u001b[0m",
      "\u001b[0;31mAssertionError\u001b[0m                            Traceback (most recent call last)",
      "Cell \u001b[0;32mIn[76], line 10\u001b[0m\n\u001b[1;32m      1\u001b[0m plaintext_path \u001b[38;5;241m=\u001b[39m \u001b[38;5;124m\"\u001b[39m\u001b[38;5;124mtest_files/otp/target_plaintext.txt\u001b[39m\u001b[38;5;124m\"\u001b[39m\n\u001b[1;32m      3\u001b[0m sys\u001b[38;5;241m.\u001b[39margv \u001b[38;5;241m=\u001b[39m [\u001b[38;5;124m\"\u001b[39m\u001b[38;5;124m\"\u001b[39m,\u001b[38;5;124m\"\u001b[39m\u001b[38;5;124m-e\u001b[39m\u001b[38;5;124m\"\u001b[39m, \n\u001b[1;32m      4\u001b[0m             \u001b[38;5;124m\"\u001b[39m\u001b[38;5;124mtest_files/otp/target_plaintext.txt\u001b[39m\u001b[38;5;124m\"\u001b[39m,\u001b[38;5;124m\"\u001b[39m\u001b[38;5;124m-d\u001b[39m\u001b[38;5;124m\"\u001b[39m, \n\u001b[1;32m      5\u001b[0m             \u001b[38;5;124m\"\u001b[39m\u001b[38;5;124mtest_files/otp/target.txt\u001b[39m\u001b[38;5;124m\"\u001b[39m, \u001b[38;5;124m\"\u001b[39m\u001b[38;5;124m-p\u001b[39m\u001b[38;5;124m\"\u001b[39m,\u001b[38;5;124m\"\u001b[39m\u001b[38;5;124mtest_files/otp/otp.txt\u001b[39m\u001b[38;5;124m\"\u001b[39m \n\u001b[1;32m      6\u001b[0m             , \u001b[38;5;124m\"\u001b[39m\u001b[38;5;124m-c\u001b[39m\u001b[38;5;124m\"\u001b[39m, \u001b[38;5;124m\"\u001b[39m\u001b[38;5;124mtest_files/otp/c0.txt\u001b[39m\u001b[38;5;124m\"\u001b[39m , \u001b[38;5;124m\"\u001b[39m\u001b[38;5;124m-t\u001b[39m\u001b[38;5;124m\"\u001b[39m, \u001b[38;5;124m\"\u001b[39m\u001b[38;5;124mtest_files/otp/target.txt\u001b[39m\u001b[38;5;124m\"\u001b[39m ,\u001b[38;5;124m\"\u001b[39m\u001b[38;5;124m-o\u001b[39m\u001b[38;5;124m\"\u001b[39m , \u001b[38;5;124m\"\u001b[39m\u001b[38;5;124moutput.txt\u001b[39m\u001b[38;5;124m\"\u001b[39m\n\u001b[1;32m      7\u001b[0m             ]\n\u001b[0;32m---> 10\u001b[0m \u001b[43mmain\u001b[49m\u001b[43m(\u001b[49m\u001b[43msys\u001b[49m\u001b[38;5;241;43m.\u001b[39;49m\u001b[43margv\u001b[49m\u001b[43m[\u001b[49m\u001b[38;5;241;43m1\u001b[39;49m\u001b[43m:\u001b[49m\u001b[43m]\u001b[49m\u001b[43m)\u001b[49m\n",
      "Cell \u001b[0;32mIn[72], line 96\u001b[0m, in \u001b[0;36mmain\u001b[0;34m(arguments)\u001b[0m\n\u001b[1;32m     93\u001b[0m         \u001b[38;5;28mprint\u001b[39m(\u001b[38;5;124m\"\u001b[39m\u001b[38;5;124mThe key must be at least as long as the plaintext\u001b[39m\u001b[38;5;124m\"\u001b[39m)\n\u001b[1;32m     94\u001b[0m         exit(\u001b[38;5;241m1\u001b[39m)\n\u001b[0;32m---> 96\u001b[0m     decrypted_text \u001b[38;5;241m=\u001b[39m \u001b[43mdecrypt\u001b[49m\u001b[43m(\u001b[49m\u001b[43mfile_content\u001b[49m\u001b[43m,\u001b[49m\u001b[43m \u001b[49m\u001b[43motp\u001b[49m\u001b[43m)\u001b[49m\n\u001b[1;32m     97\u001b[0m     \u001b[38;5;28mprint\u001b[39m(decrypted_text\u001b[38;5;241m.\u001b[39mdecode())\n\u001b[1;32m     98\u001b[0m \u001b[38;5;28;01melse\u001b[39;00m:\n",
      "Cell \u001b[0;32mIn[72], line 22\u001b[0m, in \u001b[0;36mdecrypt\u001b[0;34m(plain, key)\u001b[0m\n\u001b[1;32m     20\u001b[0m \u001b[38;5;28;01mdef\u001b[39;00m \u001b[38;5;21mdecrypt\u001b[39m(plain: \u001b[38;5;28mbytes\u001b[39m, key: \u001b[38;5;28mbytes\u001b[39m):\n\u001b[1;32m     21\u001b[0m     \u001b[38;5;66;03m# Wrapper just for the naming\u001b[39;00m\n\u001b[0;32m---> 22\u001b[0m     \u001b[38;5;28;01mreturn\u001b[39;00m \u001b[43motp_xor\u001b[49m\u001b[43m(\u001b[49m\u001b[43mplain\u001b[49m\u001b[43m,\u001b[49m\u001b[43m \u001b[49m\u001b[43mkey\u001b[49m\u001b[43m)\u001b[49m\n",
      "Cell \u001b[0;32mIn[72], line 4\u001b[0m, in \u001b[0;36motp_xor\u001b[0;34m(plain, key)\u001b[0m\n\u001b[1;32m      1\u001b[0m \u001b[38;5;28;01mdef\u001b[39;00m \u001b[38;5;21motp_xor\u001b[39m(plain: \u001b[38;5;28mbytes\u001b[39m, key: \u001b[38;5;28mbytes\u001b[39m):\n\u001b[1;32m      2\u001b[0m     res \u001b[38;5;241m=\u001b[39m \u001b[38;5;124mb\u001b[39m\u001b[38;5;124m\"\u001b[39m\u001b[38;5;124m\"\u001b[39m\n\u001b[0;32m----> 4\u001b[0m     \u001b[38;5;28;01massert\u001b[39;00m (\u001b[38;5;28mlen\u001b[39m(plain) \u001b[38;5;241m<\u001b[39m\u001b[38;5;241m=\u001b[39m \u001b[38;5;28mlen\u001b[39m(key))\n\u001b[1;32m      6\u001b[0m     \u001b[38;5;28;01mfor\u001b[39;00m p, k \u001b[38;5;129;01min\u001b[39;00m \u001b[38;5;28mzip\u001b[39m(plain, key):\n\u001b[1;32m      7\u001b[0m         \u001b[38;5;28;01mif\u001b[39;00m p \u001b[38;5;241m<\u001b[39m \u001b[38;5;241m128\u001b[39m:\n",
      "\u001b[0;31mAssertionError\u001b[0m: "
     ]
    }
   ],
   "source": [
    "\n",
    "    \n",
    "plaintext_path = \"test_files/otp/target_plaintext.txt\"\n",
    "\n",
    "sys.argv = [\"\",\"-e\", \n",
    "            \"test_files/otp/target_plaintext.txt\",\"-d\", \n",
    "            \"test_files/otp/target.txt\", \"-p\",\"test_files/otp/otp.txt\" \n",
    "            , \"-c\", \"test_files/otp/c0.txt\" , \"-t\", \"test_files/otp/target.txt\" \n",
    "            ]\n",
    "\n",
    "\n",
    "main(sys.argv[1:])\n"
   ]
  }
 ],
 "metadata": {
  "kernelspec": {
   "display_name": "Python 3 (ipykernel)",
   "language": "python",
   "name": "python3"
  },
  "language_info": {
   "codemirror_mode": {
    "name": "ipython",
    "version": 3
   },
   "file_extension": ".py",
   "mimetype": "text/x-python",
   "name": "python",
   "nbconvert_exporter": "python",
   "pygments_lexer": "ipython3",
   "version": "3.10.12"
  }
 },
 "nbformat": 4,
 "nbformat_minor": 4
}
