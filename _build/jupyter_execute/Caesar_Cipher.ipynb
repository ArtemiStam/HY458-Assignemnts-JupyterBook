{
 "cells": [
  {
   "cell_type": "markdown",
   "metadata": {
    "editable": true,
    "slideshow": {
     "slide_type": ""
    },
    "tags": []
   },
   "source": [
    "<H1>Caesar Cipher</H1>\n",
    "<H2>Classic Crypto</H2>\n",
    "***********************"
   ]
  },
  {
   "cell_type": "markdown",
   "metadata": {
    "editable": true,
    "slideshow": {
     "slide_type": ""
    },
    "tags": []
   },
   "source": [
    "<H2>Introduction</H2>\n",
    "\n",
    "\n",
    "In this assignment you are going to implement from scratch, encryption, decryption and\n",
    "cryptanalysis algorithms using Python. \n",
    "The main purpose of this assignment is to offer you the opportunity to get famiddar with the\n",
    "implementation and internals of such simple ciphers, help you understand how they work and\n",
    "find techniques for defeating them."
   ]
  },
  {
   "cell_type": "markdown",
   "metadata": {
    "editable": true,
    "slideshow": {
     "slide_type": ""
    },
    "tags": []
   },
   "source": [
    "<H2>Setup</H2>\n",
    "\n",
    "For this and future assignments you will use Python 3 with ddnux, Windows or a Unix based\n",
    "machine. We will walk you through instalddng Python 3 in Ubuntu ddnux in this section.\n",
    "Installation will be sddghtly different for other versions of ddnux or Unix and may be considerably\n",
    "different for Windows.\n",
    "If you do not want to mess around with your system Python environment, we suggest creating a\n",
    "Python virtual environment using the venv module. This will configure a selected directory with a\n",
    "Python interpreter and associated modules. Any modules you install are only locally installed.\n",
    "\n",
    "First, we need to install Python 3, Pip, and the venv module:\n",
    "\n",
    "<font color='orange'>&emsp;sudo apt install python3 python3-venv python3-pip</font>\n",
    "\n",
    "Next, we create a project directory:\n",
    "\n",
    "<font color='orange'>  &emsp;mkdir hy458</font>\n",
    "\n",
    "<font color='orange'>   &emsp;cd hy458</font>\n",
    "\n",
    "Next, we use venv to set up the environment in an env directory:\n",
    "\n",
    "<font color='orange'>   &emsp;python3 -m venv env</font>\n",
    "\n",
    "This will set up the interpreter and modules within the path. Once the installation is complete,\n",
    "the environment can be used at any time by the following command:\n",
    "\n",
    "<font color='orange'>   &emsp;source env/bin/activate</font>\n",
    "\n",
    "You should now see a prefix to your shell prompt with the name of your environment.\n",
    "When working on the assignments, remember to activate your Python virtual environment first if\n",
    "you don’t want Python modules to be installed system-wide.\n",
    "For each program you are requested to implement, use the provided python script template."
   ]
  },
  {
   "cell_type": "markdown",
   "metadata": {
    "editable": true,
    "slideshow": {
     "slide_type": ""
    },
    "tags": []
   },
   "source": [
    "<h2>1. Caesar’s cipher</h2>\n",
    "Create a Python program that encrypts/decrypts messages using Caesar’s cipher and is able to\n",
    "perform cryptanalysis against Caesar’s cipher for a given ciphertext"
   ]
  },
  {
   "cell_type": "markdown",
   "metadata": {
    "editable": true,
    "slideshow": {
     "slide_type": ""
    },
    "tags": []
   },
   "source": [
    "<h3>1.1: Encryption & Decryption</h3>\n",
    "\n",
    "* For the encryption and decryption functions one must take into account the following:\n",
    "    * The amount of shift must be configurable through the command line\n",
    "    * The plaintext/ciphertext should be provided as an input text file\n",
    "    * Both uppercase and lowercase alphabetic characters should be supported\n",
    "    * Uppercase characters should be encrypted/decrypted to uppercase characters and lowercase characters to lowercase characters\n",
    "    * No substitution for non english alphabetic characters\n",
    "    * Before encryption, remove spaces from plaintext to make it less easy to figure out words in ciphertext\n",
    "    * Error control:\n",
    "        * A shift number bigger than 25 should wrap around\n",
    "        * Binary files are not supported"
   ]
  },
  {
   "cell_type": "markdown",
   "metadata": {
    "editable": true,
    "slideshow": {
     "slide_type": ""
    },
    "tags": []
   },
   "source": [
    "<h3>1.2: Cryptanalysis</h3>\n",
    "\n",
    "Create a function to decrypt various messages by exhaustively trying all keys until you see something that looks like English. Try automating this:\n",
    "\n",
    "1. Create a program that takes in an encoded string, then try decoding it with all 25 shift values.\n",
    "2. Use the given dictionary (dictionary_1000.txt) to try to automatically determine which shift is most likely.\n",
    "\n",
    "Because you have to deal with messages with no spaces, you can simply keep a count of how many dictionary words show up in the decoded output. Occasionally, one or two words might appear by accident, but the correct decoding should have significantly more hits"
   ]
  },
  {
   "cell_type": "code",
   "execution_count": 1,
   "metadata": {
    "editable": true,
    "slideshow": {
     "slide_type": ""
    },
    "tags": []
   },
   "outputs": [],
   "source": [
    "import sys\n",
    "import argparse\n",
    "import re\n"
   ]
  },
  {
   "cell_type": "code",
   "execution_count": 2,
   "metadata": {
    "editable": true,
    "slideshow": {
     "slide_type": ""
    },
    "tags": []
   },
   "outputs": [],
   "source": [
    "def caesar_shift(plain: str, shift: int):\n",
    "    # Create the mapping for the characters\n",
    "    map = {chr(ord('A')+c): chr(ord('A')+(c+shift) % 26)\n",
    "           for c in range(0, 26)}  # Uppercase\n",
    "    map.update({chr(ord('a')+c): chr(ord('a')+(c+shift) % 26)\n",
    "                for c in range(0, 26)})  # Lowercase\n",
    "\n",
    "    # Replace each character with its corresponding\n",
    "    return \"\".join([map.get(c, c) for c in plain])\n",
    "\n",
    "\n",
    "def encrypt(plain: str, shift: int):\n",
    "    plain = re.sub(r\"\\s\", \"\", plain)\n",
    "    shift = shift % 26\n",
    "    return caesar_shift(plain, shift)\n",
    "\n",
    "\n",
    "def decrypt(cipher: str, shift: int):\n",
    "    shift = -(shift % 26)\n",
    "    return caesar_shift(cipher, shift)\n",
    "\n",
    "\n",
    "def cryptanalysis(cipher: str):\n",
    "    cipher_nowhite = re.sub(r\"[^a-zA-Z]\", \"\", cipher)\n",
    "    possibility = []\n",
    "\n",
    "    try:\n",
    "        with open(\"dictionary_1000.txt\") as dictionary:\n",
    "            dictionary = dictionary.read().splitlines()\n",
    "    except:\n",
    "        print(\"Error: Dictionary file not found\", file=sys.stderr)\n",
    "        exit(1)\n",
    "\n",
    "    for i in range(26):\n",
    "        attempt = decrypt(cipher_nowhite, i)\n",
    "\n",
    "        for word in dictionary:\n",
    "            attempt = attempt.replace(word, \"\")\n",
    "\n",
    "        possibility.append((i, len(attempt)))\n",
    "\n",
    "    guessed = min(possibility, key=lambda x: x[1])\n",
    "    return decrypt(cipher, guessed[0])\n"
   ]
  },
  {
   "cell_type": "code",
   "execution_count": 3,
   "metadata": {
    "editable": true,
    "slideshow": {
     "slide_type": ""
    },
    "tags": []
   },
   "outputs": [],
   "source": [
    "\n",
    "def main(arguments):\n",
    "\n",
    "    parser = argparse.ArgumentParser(\n",
    "        formatter_class=argparse.RawDescriptionHelpFormatter)\n",
    "    parser.add_argument(\"-e\", \"--encrypt\",\n",
    "                        help=\"Encrypt text file\", type=argparse.FileType('r'))\n",
    "    parser.add_argument(\n",
    "        \"-d\", \"--decrypt\", help=\"Decrypt ciphertext file\", type=argparse.FileType('r'))\n",
    "    parser.add_argument(\n",
    "        \"-s\", \"--shift\", help=\"Shift value used for encryption/decryption\", default=14, type=int)\n",
    "    parser.add_argument(\"-c\", \"--cryptanalysis\",\n",
    "                        help=\"Perform cryptanalysis on the given ciphertext\", type=argparse.FileType('r'))\n",
    "\n",
    "    args = parser.parse_args(arguments)\n",
    "\n",
    "    if args.encrypt:\n",
    "        shift = int(args.shift)\n",
    "        try:\n",
    "            file_content = args.encrypt.read()\n",
    "        except UnicodeError:\n",
    "            print(\"Error: Binary files not supported, only text allowed\",\n",
    "                  file=sys.stderr)\n",
    "            exit(1)\n",
    "\n",
    "        encrypted_text = encrypt(file_content, shift)\n",
    "        print(\"ENCRYPTED TEXT:::::::::::\"+encrypted_text)\n",
    "    if args.decrypt:\n",
    "        shift = int(args.shift)\n",
    "\n",
    "        try:\n",
    "            file_content = args.decrypt.read()\n",
    "        except UnicodeError:\n",
    "            print(\"Error: Binary files not supported, only text allowed\",\n",
    "                  file=sys.stderr)\n",
    "            exit(1)\n",
    "\n",
    "        decrypted_text = decrypt(file_content, shift)\n",
    "        print(\"DECRYPTED TEXT:::::::::::\"+decrypted_text)\n",
    "    if args.cryptanalysis:\n",
    "        try:\n",
    "            file_content = args.cryptanalysis.read()\n",
    "        except UnicodeError:\n",
    "            print(\"Error: Binary files not supported, only text allowed\",\n",
    "                  file=sys.stderr)\n",
    "            exit(1)\n",
    "\n",
    "        decrypted_text = cryptanalysis(file_content)\n",
    "        print(\"CRYPTANALYSIS:::::::::::\"+decrypted_text)\n"
   ]
  },
  {
   "cell_type": "code",
   "execution_count": 4,
   "metadata": {
    "editable": true,
    "scrolled": true,
    "slideshow": {
     "slide_type": ""
    },
    "tags": []
   },
   "outputs": [
    {
     "name": "stderr",
     "output_type": "stream",
     "text": [
      "usage: [-h] [-e ENCRYPT] [-d DECRYPT] [-s SHIFT] [-c CRYPTANALYSIS]\n",
      ": error: argument -e/--encrypt: can't open 'test_files/caesar/plaintext.txt': [Errno 2] No such file or directory: 'test_files/caesar/plaintext.txt'\n"
     ]
    },
    {
     "ename": "SystemExit",
     "evalue": "2",
     "output_type": "error",
     "traceback": [
      "An exception has occurred, use %tb to see the full traceback.\n",
      "\u001b[0;31mSystemExit\u001b[0m\u001b[0;31m:\u001b[0m 2\n"
     ]
    },
    {
     "name": "stderr",
     "output_type": "stream",
     "text": [
      "/home/artemi/.local/lib/python3.10/site-packages/IPython/core/interactiveshell.py:3585: UserWarning: To exit: use 'exit', 'quit', or Ctrl-D.\n",
      "  warn(\"To exit: use 'exit', 'quit', or Ctrl-D.\", stacklevel=1)\n"
     ]
    }
   ],
   "source": [
    "\n",
    "plaintext_path = \"test_files/caesar/plaintext.txt\"\n",
    "#caesar_shift = \"test_files/caesar/caesar_encrypted_shift_is_14.txt\"\n",
    "\n",
    "sys.argv = [\"\",\"-e\", \n",
    "            \"test_files/caesar/plaintext.txt\",\"-d\", \n",
    "            \"test_files/caesar/caesar_encrypted_shift_is_14.txt\",\"-s\", \"14\",\"-c\", \n",
    "            \"test_files/caesar/caesar_encrypted_shift_is_14.txt\"\n",
    "            ]\n",
    "\n",
    "\n",
    "main(sys.argv[1:])\n",
    "\n",
    "\n",
    "\n"
   ]
  }
 ],
 "metadata": {
  "kernelspec": {
   "display_name": "Python 3 (ipykernel)",
   "language": "python",
   "name": "python3"
  },
  "language_info": {
   "codemirror_mode": {
    "name": "ipython",
    "version": 3
   },
   "file_extension": ".py",
   "mimetype": "text/x-python",
   "name": "python",
   "nbconvert_exporter": "python",
   "pygments_lexer": "ipython3",
   "version": "3.10.12"
  }
 },
 "nbformat": 4,
 "nbformat_minor": 4
}