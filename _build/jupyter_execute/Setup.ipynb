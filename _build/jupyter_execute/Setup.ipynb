{
 "cells": [
  {
   "cell_type": "markdown",
   "id": "d572b3a6-ed2d-46b0-b4f3-641038fe83b5",
   "metadata": {},
   "source": [
    "# Setup"
   ]
  },
  {
   "cell_type": "markdown",
   "id": "52547ce8-a873-4bc6-8a28-50a4f63a5c4c",
   "metadata": {
    "editable": true,
    "slideshow": {
     "slide_type": ""
    },
    "tags": []
   },
   "source": [
    "For this and future assignments you will use Python 3 with ddnux, Windows or a Unix based\n",
    "machine. We will walk you through instalddng Python 3 in Ubuntu ddnux in this section.\n",
    "Installation will be sddghtly different for other versions of ddnux or Unix and may be considerably\n",
    "different for Windows.\n",
    "If you do not want to mess around with your system Python environment, we suggest creating a\n",
    "Python virtual environment using the venv module. This will configure a selected directory with a\n",
    "Python interpreter and associated modules. Any modules you install are only locally installed.\n",
    "\n",
    "First, we need to install Python 3, Pip, and the venv module:\n",
    "\n",
    "<font color='orange'>&emsp;sudo apt install python3 python3-venv python3-pip</font>\n",
    "\n",
    "Next, we create a project directory:\n",
    "\n",
    "<font color='orange'>  &emsp;mkdir hy458</font>\n",
    "\n",
    "<font color='orange'>   &emsp;cd hy458</font>\n",
    "\n",
    "Next, we use venv to set up the environment in an env directory:\n",
    "\n",
    "<font color='orange'>   &emsp;python3 -m venv env</font>\n",
    "\n",
    "This will set up the interpreter and modules within the path. Once the installation is complete,\n",
    "the environment can be used at any time by the following command:\n",
    "\n",
    "<font color='orange'>   &emsp;source env/bin/activate</font>\n",
    "\n",
    "You should now see a prefix to your shell prompt with the name of your environment.\n",
    "When working on the assignments, remember to activate your Python virtual environment first if\n",
    "you don’t want Python modules to be installed system-wide.\n",
    "For each program you are requested to implement, use the provided python script template."
   ]
  }
 ],
 "metadata": {
  "kernelspec": {
   "display_name": "Python 3 (ipykernel)",
   "language": "python",
   "name": "python3"
  },
  "language_info": {
   "codemirror_mode": {
    "name": "ipython",
    "version": 3
   },
   "file_extension": ".py",
   "mimetype": "text/x-python",
   "name": "python",
   "nbconvert_exporter": "python",
   "pygments_lexer": "ipython3",
   "version": "3.10.12"
  }
 },
 "nbformat": 4,
 "nbformat_minor": 5
}