{
 "cells": [
  {
   "cell_type": "markdown",
   "metadata": {
    "editable": true,
    "slideshow": {
     "slide_type": ""
    },
    "tags": []
   },
   "source": [
    "# Caesar Cipher \n",
    "## Classic Crypto (FALL 2022-2023) "
   ]
  },
  {
   "cell_type": "markdown",
   "metadata": {
    "editable": true,
    "slideshow": {
     "slide_type": ""
    },
    "tags": []
   },
   "source": [
    "<h2>1. Caesar’s cipher</h2>\n",
    "Create a Python program that encrypts/decrypts messages using Caesar’s cipher and is able to\n",
    "perform cryptanalysis against Caesar’s cipher for a given ciphertext"
   ]
  },
  {
   "cell_type": "markdown",
   "metadata": {
    "editable": true,
    "slideshow": {
     "slide_type": ""
    },
    "tags": []
   },
   "source": [
    "<h3>1.1: Encryption & Decryption</h3>\n",
    "\n",
    "* For the encryption and decryption functions one must take into account the following:\n",
    "    * The amount of shift must be configurable through the command line as an integer\n",
    "    * The plaintext/ciphertext should be provided as a string\n",
    "    * Both uppercase and lowercase alphabetic characters should be supported\n",
    "    * Uppercase characters should be encrypted/decrypted to uppercase characters and lowercase characters to lowercase characters\n",
    "    * No substitution for non english alphabetic characters\n",
    "    * Before encryption, remove spaces from plaintext to make it less easy to figure out words in ciphertext\n",
    "    * Error control:\n",
    "        * A shift number bigger than 25 should wrap around\n",
    "        * Binary files are not supported"
   ]
  },
  {
   "cell_type": "markdown",
   "metadata": {
    "editable": true,
    "slideshow": {
     "slide_type": ""
    },
    "tags": []
   },
   "source": [
    "<h3>1.2: Cryptanalysis </h3>\n",
    "<font color='red'>&emsp;(cannot run cryptanalysis live on jupyterbook, you can run it locally by providing dictionary_1000.txt)</font>\n",
    "\n",
    "Create a function to decrypt various messages by exhaustively trying all keys until you see something that looks like English. Try automating this:\n",
    "\n",
    "1. Create a program that takes in an encoded string, then try decoding it with all 25 shift values.\n",
    "2. Use the given dictionary (dictionary_1000.txt) to try to automatically determine which shift is most likely.\n",
    "\n",
    "Because you have to deal with messages with no spaces, you can simply keep a count of how many dictionary words show up in the decoded output. Occasionally, one or two words might appear by accident, but the correct decoding should have significantly more hits"
   ]
  },
  {
   "cell_type": "code",
   "execution_count": 1,
   "metadata": {
    "editable": true,
    "slideshow": {
     "slide_type": ""
    },
    "tags": []
   },
   "outputs": [],
   "source": [
    "import sys\n",
    "import argparse\n",
    "import re\n"
   ]
  },
  {
   "cell_type": "code",
   "execution_count": 2,
   "metadata": {
    "editable": true,
    "slideshow": {
     "slide_type": ""
    },
    "tags": []
   },
   "outputs": [],
   "source": [
    "def caesar_shift(plain: str, shift: int):\n",
    "    # Create the mapping for the characters\n",
    "    map = {chr(ord('A')+c): chr(ord('A')+(c+shift) % 26)\n",
    "           for c in range(0, 26)}  # Uppercase\n",
    "    map.update({chr(ord('a')+c): chr(ord('a')+(c+shift) % 26)\n",
    "                for c in range(0, 26)})  # Lowercase\n",
    "\n",
    "    # Replace each character with its corresponding\n",
    "    return \"\".join([map.get(c, c) for c in plain])\n",
    "\n",
    "\n",
    "def encrypt(plain: str, shift: int):\n",
    "    plain = re.sub(r\"\\s\", \"\", plain)\n",
    "    shift = shift % 26\n",
    "    return caesar_shift(plain, shift)\n",
    "\n",
    "\n",
    "def decrypt(cipher: str, shift: int):\n",
    "    shift = -(shift % 26)\n",
    "    return caesar_shift(cipher, shift)\n",
    "\n",
    "\n",
    "def cryptanalysis(cipher: str):\n",
    "    cipher_nowhite = re.sub(r\"[^a-zA-Z]\", \"\", cipher)\n",
    "    possibility = []\n",
    "\n",
    "    try:\n",
    "        with open(\"dictionary_1000.txt\") as dictionary:\n",
    "            dictionary = dictionary.read().splitlines()\n",
    "    except:\n",
    "        print(\"Error: Dictionary file not found\", file=sys.stderr)\n",
    "        exit(1)\n",
    "\n",
    "    for i in range(26):\n",
    "        attempt = decrypt(cipher_nowhite, i)\n",
    "\n",
    "        for word in dictionary:\n",
    "            attempt = attempt.replace(word, \"\")\n",
    "\n",
    "        possibility.append((i, len(attempt)))\n",
    "\n",
    "    guessed = min(possibility, key=lambda x: x[1])\n",
    "    return decrypt(cipher, guessed[0])\n"
   ]
  },
  {
   "cell_type": "code",
   "execution_count": 3,
   "metadata": {
    "editable": true,
    "slideshow": {
     "slide_type": ""
    },
    "tags": []
   },
   "outputs": [],
   "source": [
    "\n",
    "def main(arguments):\n",
    "\n",
    "    parser = argparse.ArgumentParser(\n",
    "        formatter_class=argparse.RawDescriptionHelpFormatter)\n",
    "    parser.add_argument(\"-e\", \"--encrypt\",\n",
    "                        help=\"Encrypt text file\", type=str)\n",
    "    parser.add_argument(\n",
    "        \"-d\", \"--decrypt\", help=\"Decrypt ciphertext file\", type=str)\n",
    "    parser.add_argument(\n",
    "        \"-s\", \"--shift\", help=\"Shift value used for encryption/decryption\", default=14, type=int)\n",
    "    parser.add_argument(\"-c\", \"--cryptanalysis\",\n",
    "                        help=\"Perform cryptanalysis on the given ciphertext\", type=str)\n",
    "\n",
    "    args = parser.parse_args(arguments)\n",
    "\n",
    "    if args.encrypt:\n",
    "        shift = int(args.shift)\n",
    "        encrypted_text = encrypt(args.encrypt, shift)\n",
    "        print(\"ENCRYPTED TEXT:::::::::::\"+encrypted_text)\n",
    "    if args.decrypt:\n",
    "        shift = int(args.shift)\n",
    "        decrypted_text = decrypt(args.decrypt, shift)\n",
    "        print(\"DECRYPTED TEXT:::::::::::\"+decrypted_text)\n",
    "    if args.cryptanalysis:\n",
    "        decrypted_text = cryptanalysis(args.cryptanalysis)\n",
    "        print(\"CRYPTANALYSIS:::::::::::\"+decrypted_text)\n"
   ]
  },
  {
   "cell_type": "code",
   "execution_count": 4,
   "metadata": {
    "editable": true,
    "scrolled": true,
    "slideshow": {
     "slide_type": ""
    },
    "tags": []
   },
   "outputs": [
    {
     "name": "stdout",
     "output_type": "stream",
     "text": [
      "ENCRYPTED TEXT:::::::::::Qfmdhcufodvmdfwcfhchvsacrsfbouskogsttsqhwjszmgmbcbmacigkwhvsbqfmdhwcb,qcbjsfhwbufsoropzswbtcfaohwcb(dzowbhslh)hcibwbhszzwuwpzsbcbgsbgshslh(qwdvsfhslh),kvwqvqobcbzmpsfsorpmfsjsfgwbuhvsdfcqsgg(rsqfmdhwcb).Hvsgsbrsfctobsbqfmdhsr(qcrsr)asggousgvofsghvsrsqfmdhwcb(rsqcrwbu)hsqvbweiscbzmkwhvwbhsbrsrfsqwdwsbhghcdfsqzirsoqqsggtfcaorjsfgofwsg.Hvsqfmdhcufodvmzwhsfohifscthsbigsghvsboasg\"Ozwqs\"(cf\"O\")tcfhvsgsbrsf,\"Pcp\"(cf\"P\")tcfhvswbhsbrsrfsqwdwsbh,obr\"Sjs\"(cf\"S\")tcfhvssojsgrfcddwbuorjsfgofm.Slhsbgwjscdsboqorsawqfsgsofqvwbhcqfmdhcufodvmwgfszohwjszmfsqsbh,psuwbbwbuwbhvsawr-1970g.\n",
      "DECRYPTED TEXT:::::::::::Cryptographypriortothemodernagewaseffectivelysynonymouswithencryption,convertingreadableinformation(plaintext)tounintelligiblenonsensetext(ciphertext),whichcanonlybereadbyreversingtheprocess(decryption).Thesenderofanencrypted(coded)messagesharesthedecryption(decoding)techniqueonlywithintendedrecipientstoprecludeaccessfromadversaries.Thecryptographyliteratureoftenusesthenames\"Alice\"(or\"A\")forthesender,\"Bob\"(or\"B\")fortheintendedrecipient,and\"Eve\"(or\"E\")fortheeavesdroppingadversary.Extensiveopenacademicresearchintocryptographyisrelativelyrecent,beginninginthemid-1970s.\n"
     ]
    }
   ],
   "source": [
    "#!Cryptanalysis doesnt work on jupyter book because it needs to load the file dictionary_1000.txt but you can run it locally\n",
    "#by providing the dictionary_1000.txt found in the HY458 2022 assignment1 zip.\n",
    "sys.argv = [\"\", \"-e\",  \"Cryptography prior to the modern age was effectively synonymous with encryption, converting readable information (plaintext) to unintelligible nonsense text (ciphertext), which can only be read by reversing the process (decryption). The sender of an encrypted (coded) message shares the decryption (decoding) technique only with intended recipients to preclude access from adversaries. The cryptography literature often uses the names \\\"Alice\\\" (or \\\"A\\\") for the sender, \\\"Bob\\\" (or \\\"B\\\") for the intended recipient, and \\\"Eve\\\" (or \\\"E\\\") for the eavesdropping adversary. Extensive open academic research into cryptography is relatively recent, beginning in the mid-1970s.\",\n",
    "                \"-s\", \"14\", \n",
    "                \"-d\", \"Qfmdhcufodvmdfwcfhchvsacrsfbouskogsttsqhwjszmgmbcbmacigkwhvsbqfmdhwcb,qcbjsfhwbufsoropzswbtcfaohwcb(dzowbhslh)hcibwbhszzwuwpzsbcbgsbgshslh(qwdvsfhslh),kvwqvqobcbzmpsfsorpmfsjsfgwbuhvsdfcqsgg(rsqfmdhwcb).Hvsgsbrsfctobsbqfmdhsr(qcrsr)asggousgvofsghvsrsqfmdhwcb(rsqcrwbu)hsqvbweiscbzmkwhvwbhsbrsrfsqwdwsbhghcdfsqzirsoqqsggtfcaorjsfgofwsg.Hvsqfmdhcufodvmzwhsfohifscthsbigsghvsboasg\\\"Ozwqs\\\"(cf\\\"O\\\")tcfhvsgsbrsf,\\\"Pcp\\\"(cf\\\"P\\\")tcfhvswbhsbrsrfsqwdwsbh,obr\\\"Sjs\\\"(cf\\\"S\\\")tcfhvssojsgrfcddwbuorjsfgofm.Slhsbgwjscdsboqorsawqfsgsofqvwbhcqfmdhcufodvmwgfszohwjszmfsqsbh,psuwbbwbuwbhvsawr-1970g.\"\n",
    "                #\"-c\", \"Qfmdhcufodvmdfwcfhchvsacrsfbouskogsttsqhwjszmgmbcbmacigkwhvsbqfmdhwcb,qcbjsfhwbufsoropzswbtcfaohwcb(dzowbhslh)hcibwbhszzwuwpzsbcbgsbgshslh(qwdvsfhslh),kvwqvqobcbzmpsfsorpmfsjsfgwbuhvsdfcqsgg(rsqfmdhwcb).Hvsgsbrsfctobsbqfmdhsr(qcrsr)asggousgvofsghvsrsqfmdhwcb(rsqcrwbu)hsqvbweiscbzmkwhvwbhsbrsrfsqwdwsbhghcdfsqzirsoqqsggtfcaorjsfgofwsg.Hvsqfmdhcufodvmzwhsfohifscthsbigsghvsboasg\\\"Ozwqs\\\"(cf\\\"O\\\")tcfhvsgsbrsf,\\\"Pcp\\\"(cf\\\"P\\\")tcfhvswbhsbrsrfsqwdwsbh,obr\\\"Sjs\\\"(cf\\\"S\\\")tcfhvssojsgrfcddwbuorjsfgofm.Slhsbgwjscdsboqorsawqfsgsofqvwbhcqfmdhcufodvmwgfszohwjszmfsqsbh,psuwbbwbuwbhvsawr-1970g.\"\n",
    "           ]\n",
    "\n",
    "\n",
    "main(sys.argv[1:])\n",
    "\n",
    "\n",
    "\n"
   ]
  },
  {
   "cell_type": "code",
   "execution_count": null,
   "metadata": {
    "editable": true,
    "slideshow": {
     "slide_type": ""
    },
    "tags": []
   },
   "outputs": [],
   "source": []
  }
 ],
 "metadata": {
  "kernelspec": {
   "display_name": "Python 3 (ipykernel)",
   "language": "python",
   "name": "python3"
  },
  "language_info": {
   "codemirror_mode": {
    "name": "ipython",
    "version": 3
   },
   "file_extension": ".py",
   "mimetype": "text/x-python",
   "name": "python",
   "nbconvert_exporter": "python",
   "pygments_lexer": "ipython3",
   "version": "3.10.12"
  }
 },
 "nbformat": 4,
 "nbformat_minor": 4
}