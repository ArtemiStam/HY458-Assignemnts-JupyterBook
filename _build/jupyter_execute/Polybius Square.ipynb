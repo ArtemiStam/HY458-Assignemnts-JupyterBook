{
 "cells": [
  {
   "cell_type": "markdown",
   "id": "1fd7ce5c-fbcb-49ec-9d59-50ab3187ba64",
   "metadata": {
    "editable": true,
    "slideshow": {
     "slide_type": ""
    },
    "tags": []
   },
   "source": [
    "# Polybius Square(variant)\n",
    "## Classic Crypto "
   ]
  },
  {
   "cell_type": "markdown",
   "id": "1b4b96b1-a73e-4263-b698-736bedf92f29",
   "metadata": {
    "editable": true,
    "slideshow": {
     "slide_type": ""
    },
    "tags": []
   },
   "source": [
    "<H2>Introduction</H2>\n",
    "\n",
    "\n",
    "In this assignment you are going to implement from scratch, encryption, decryption and\n",
    "cryptanalysis algorithms using Python. \n",
    "The main purpose of this assignment is to offer you the opportunity to get famiddar with the\n",
    "implementation and internals of such simple ciphers, help you understand how they work and\n",
    "find techniques for defeating them."
   ]
  },
  {
   "cell_type": "markdown",
   "id": "25a75b19-4d7c-427f-9ab5-35c2ceec464e",
   "metadata": {
    "editable": true,
    "slideshow": {
     "slide_type": ""
    },
    "tags": []
   },
   "source": [
    "<H2>Setup</H2>\n",
    "\n",
    "For this and future assignments you will use Python 3 with ddnux, Windows or a Unix based\n",
    "machine. We will walk you through instalddng Python 3 in Ubuntu ddnux in this section.\n",
    "Installation will be sddghtly different for other versions of ddnux or Unix and may be considerably\n",
    "different for Windows.\n",
    "If you do not want to mess around with your system Python environment, we suggest creating a\n",
    "Python virtual environment using the venv module. This will configure a selected directory with a\n",
    "Python interpreter and associated modules. Any modules you install are only locally installed.\n",
    "\n",
    "First, we need to install Python 3, Pip, and the venv module:\n",
    "\n",
    "<font color='orange'>&emsp;sudo apt install python3 python3-venv python3-pip</font>\n",
    "\n",
    "Next, we create a project directory:\n",
    "\n",
    "<font color='orange'>  &emsp;mkdir hy458</font>\n",
    "\n",
    "<font color='orange'>   &emsp;cd hy458</font>\n",
    "\n",
    "Next, we use venv to set up the environment in an env directory:\n",
    "\n",
    "<font color='orange'>   &emsp;python3 -m venv env</font>\n",
    "\n",
    "This will set up the interpreter and modules within the path. Once the installation is complete,\n",
    "the environment can be used at any time by the following command:\n",
    "\n",
    "<font color='orange'>   &emsp;source env/bin/activate</font>\n",
    "\n",
    "You should now see a prefix to your shell prompt with the name of your environment.\n",
    "When working on the assignments, remember to activate your Python virtual environment first if\n",
    "you don’t want Python modules to be installed system-wide.\n",
    "For each program you are requested to implement, use the provided python script template."
   ]
  },
  {
   "cell_type": "markdown",
   "id": "a9137c24-3884-4a2f-81e1-18cbc2404bea",
   "metadata": {},
   "source": [
    "<h2>5. Polybius Square</h2>\n",
    "\n",
    "In this assignment you are required to implement a variation of Polybius Square. You will need to provide a python file with the functions for grid creation, encrypting (10%) and decrypting (10%). You are also required to make the program verbose by adding the necessary prints (print starting plaintext grid ciphertext decrypt text etc.). \n",
    "\n",
    "The Polybius Square, also known as the Polybius Checkerboard, is a simple method of encoding letters into a grid of numbers. It is based on a 5x5 grid, where each cell in the grid is assigned a unique combination of two numbers, typically ranging from 11 to 55. \n",
    "\n",
    "This Encryption algorithm has the following steps: \n",
    "\n",
    "● Create an 2D array with size 5x5 and fill it randomly with the english alphabet (put the i and j on the same cell). You will end up with something like this:\n",
    "\n",
    "![Alt text](./polybius.png)\n",
    "\n",
    "● Split you plain text in to characters (also remove any spaces) \n",
    "\n",
    "● Findthe corresponding number of your character base on the grid e.g. A = 13, O = 42 \n",
    "\n",
    "● Put together all the numbers of the previous steps e.g. HELLOWORLD The cipher would be 2522343442453421.\n",
    "\n",
    "Now reverse the process to decrypt the ciphertext that you created. You will need to use the existing grid that you create for the encryption."
   ]
  },
  {
   "cell_type": "code",
   "execution_count": 1,
   "id": "5b541e97-9012-47b0-9c55-ac28e6ded9fe",
   "metadata": {},
   "outputs": [],
   "source": [
    "import sys\n",
    "import random"
   ]
  },
  {
   "cell_type": "markdown",
   "id": "cc5d5ddd-3f07-4e92-9d27-d7ad9fd4234c",
   "metadata": {},
   "source": [
    "<b>Note:</b> function generate_array creates arandomly generated alphabet everytime so the results will vary you can use your own set alphabet by \n",
    "replacing variable random_alphabet with alphabet."
   ]
  },
  {
   "cell_type": "code",
   "execution_count": 2,
   "id": "5e44d6a5-243d-4f87-9799-274c145b773c",
   "metadata": {},
   "outputs": [],
   "source": [
    "def generate_array():\n",
    "    alphabet = \"ABCDEFGHIKLMNOPQRSTUVWXYZ\"\n",
    "    random_alphabet = random.sample(alphabet, 25) #get a random order of the alphabet\n",
    "    \n",
    "    array = []\n",
    "    for x in range(0,5): #create an array with 5 rows and 5 columns\n",
    "        array.append([\"\" for x in range(0,5)])\n",
    "\n",
    "    for index, char in enumerate(random_alphabet):\n",
    "        array[int(index/5)][int(index%5)] = char\n",
    "\n",
    "    return array"
   ]
  },
  {
   "cell_type": "code",
   "execution_count": 3,
   "id": "37183dc7-ca6c-48ca-b73f-ebf2aa5554c7",
   "metadata": {},
   "outputs": [],
   "source": [
    "def encrypt(plaintext, array):\n",
    "    ciphertext = \"\"\n",
    "    \n",
    "    for letter in plaintext: #for each letter in the plaintext\n",
    "        if letter == \"J\": #if plaintext letter is J put the position of I in the array\n",
    "            ciphertext = ciphertext + (position_in_array(\"I\", array))\n",
    "        for i, row in enumerate(array): #for each row of the array\n",
    "            for j, char in enumerate(row): #for each char in every row in the array\n",
    "                if letter == char: #if a letter from the plaintext is equal to a letter from the array put its position in the array in the ciphertext\n",
    "                    ciphertext = ciphertext + (str(i+1)+str(j+1)) #put the position in the array in the ciphertext\n",
    "\n",
    "    return ciphertext"
   ]
  },
  {
   "cell_type": "code",
   "execution_count": 4,
   "id": "414d3ee2-e475-47af-ab83-0b94e22cf5ca",
   "metadata": {},
   "outputs": [],
   "source": [
    "def decrypt(ciphertext, array):\n",
    "    plaintext = \"\"\n",
    "\n",
    "    for index in range(0, len(ciphertext), 2): #for every two numbers in the ciphertext\n",
    "        row = int(ciphertext[index])-1 #the row is the first of the two numbers\n",
    "        col = int(ciphertext[index+1])-1 #the column is the second of the two numbers\n",
    "        plaintext = plaintext + array[row][col]\n",
    "\n",
    "    return plaintext"
   ]
  },
  {
   "cell_type": "code",
   "execution_count": 5,
   "id": "6588a6f2-e782-4c21-8c0d-deadb28f8e12",
   "metadata": {},
   "outputs": [],
   "source": [
    "#Return a sting that holds the position of the given letter in the given array\n",
    "def position_in_array(letter, array):\n",
    "    for i, row in enumerate(array):\n",
    "        for j, char in enumerate(row):\n",
    "            if char == letter: #the char in row i and column j is equal to the letter\n",
    "                return str(i+1)+str(j+1) #return position of the letter in array\n",
    "            "
   ]
  },
  {
   "cell_type": "code",
   "execution_count": 6,
   "id": "c89c0f9c-d2d9-4c5e-af98-ae2d2d5bf6e0",
   "metadata": {},
   "outputs": [],
   "source": [
    "sys.argv[0] = \"\"\n",
    "sys.argv[1] = \"HELLOWORLD\" #This is the plaintext you can change to your liking"
   ]
  },
  {
   "cell_type": "code",
   "execution_count": 7,
   "id": "c00cb4a9-3d15-49f1-8462-0055395d01cd",
   "metadata": {},
   "outputs": [
    {
     "name": "stdout",
     "output_type": "stream",
     "text": [
      "\u001b[91m input should be: python polybius_square.py <plaintext> \u001b[00m\n"
     ]
    },
    {
     "ename": "SystemExit",
     "evalue": "0",
     "output_type": "error",
     "traceback": [
      "An exception has occurred, use %tb to see the full traceback.\n",
      "\u001b[0;31mSystemExit\u001b[0m\u001b[0;31m:\u001b[0m 0\n"
     ]
    },
    {
     "name": "stderr",
     "output_type": "stream",
     "text": [
      "/home/artemi/.local/lib/python3.10/site-packages/IPython/core/interactiveshell.py:3585: UserWarning: To exit: use 'exit', 'quit', or Ctrl-D.\n",
      "  warn(\"To exit: use 'exit', 'quit', or Ctrl-D.\", stacklevel=1)\n"
     ]
    }
   ],
   "source": [
    "def main(argv):\n",
    "    if len(argv) != 2: #if input is incorrect exit\n",
    "        print(\"\\033[91m input should be: python polybius_square.py <plaintext> \\033[00m\")\n",
    "        sys.exit(0)\n",
    "\n",
    "    plaintext = argv[0]\n",
    "    print(\"\\n-------------------------Polybius Square encryption / decryption-------------------------\")\n",
    "    print(\"Plaintext: \"+plaintext)\n",
    "    plaintext = list(argv[0].upper().replace(\" \", \"\"))\n",
    "\n",
    "    array = generate_array() #create an array with each letter of the alphabet in a random position\n",
    "    print(\"\\nPolybius Square:\")\n",
    "    print(\"    1    2    3    4    5\")\n",
    "    for index, row in enumerate(array):\n",
    "        print(str(index+1), row)\n",
    "\n",
    "    ciphertext = encrypt(plaintext, array) #encrypt plaintext\n",
    "    print(\"\\nCiphertext: \"+ ciphertext)\n",
    "\n",
    "    plaintext = decrypt(ciphertext, array) #decrypt ciphertext\n",
    "    print(\"\\nPlaintext: \" + plaintext)\n",
    "\n",
    "if __name__ == \"__main__\":\n",
    "    main(sys.argv[1:]) #excecute main when file runs as a script, only get plaintext input"
   ]
  }
 ],
 "metadata": {
  "kernelspec": {
   "display_name": "Python 3 (ipykernel)",
   "language": "python",
   "name": "python3"
  },
  "language_info": {
   "codemirror_mode": {
    "name": "ipython",
    "version": 3
   },
   "file_extension": ".py",
   "mimetype": "text/x-python",
   "name": "python",
   "nbconvert_exporter": "python",
   "pygments_lexer": "ipython3",
   "version": "3.10.12"
  }
 },
 "nbformat": 4,
 "nbformat_minor": 5
}